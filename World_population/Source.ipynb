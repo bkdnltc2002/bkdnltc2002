{
 "cells": [
  {
   "cell_type": "markdown",
   "id": "4ea1f81b",
   "metadata": {},
   "source": [
    "# Introduction\n",
    "\n",
    "## About - Dataset:\n",
    "\n",
    "In this Dataset, we have Historical Population data for every Country/Territory in the world by different parameters like Area Size of the Country/Territory, Name of the Continent, Name of the Capital, Density, Population Growth Rate, Ranking based on Population, World Population Percentage, etc.\n",
    "\n",
    "## About - Project:\n",
    "This World Population Data Analysis project is a component of Jovian's \"Data Analysis with Python: Zero to Pandas\" course. In this research, we will look into the relationship between the many characteristics of the world's population that are contained in this dataset. The graphical representation and visualization of data using the matplotlib and seaborn libraries in Python allow us to comprehend the dataset far better.\n",
    "\n",
    "## Dataset - Source:\n",
    "The dataset is obtained from <a href=\"https://www.kaggle.com/datasets/iamsouravbanerjee/world-population-dataset\" target=\"_blank\">Kaggle</a>.\n",
    "\n",
    "Please click <a href=\"https://www.kaggle.com/datasets/iamsouravbanerjee/world-population-dataset\" target=\"_blank\">here</a> to know more about the dataset.\n",
    "\n",
    "\n",
    "## Download the Dataset:\n",
    "There are several options for getting the dataset into Jupyter:\n",
    "\n",
    "* Download the CSV manually and upload it via Jupyter's GUI\n",
    "\n",
    "* Use the urlretrieve function from the urllib.request to download CSV files from a raw URL\n",
    "\n",
    "* Use a helper library, e.g., opendatasets, which contains a collection of curated datasets and provides a helper function for direct download.\n",
    "\n",
    "Initially, I manually downloaded and uploaded the dataset vi Jupyter's GUI. Later, I uploaded the same dataset to my Github profile"
   ]
  },
  {
   "cell_type": "code",
   "execution_count": 4,
   "id": "ed9ff0ba",
   "metadata": {},
   "outputs": [],
   "source": [
    "import pandas as pd\n",
    "import numpy as np\n",
    "import seaborn as sns\n",
    "import matplotlib.pyplot as plt"
   ]
  },
  {
   "cell_type": "markdown",
   "id": "94b14950-e364-4f15-8c11-1a26052238c8",
   "metadata": {},
   "source": [
    "# 1. Collecting Data"
   ]
  },
  {
   "cell_type": "code",
   "execution_count": 5,
   "id": "09ad6105",
   "metadata": {},
   "outputs": [
    {
     "data": {
      "text/html": [
       "<div>\n",
       "<style scoped>\n",
       "    .dataframe tbody tr th:only-of-type {\n",
       "        vertical-align: middle;\n",
       "    }\n",
       "\n",
       "    .dataframe tbody tr th {\n",
       "        vertical-align: top;\n",
       "    }\n",
       "\n",
       "    .dataframe thead th {\n",
       "        text-align: right;\n",
       "    }\n",
       "</style>\n",
       "<table border=\"1\" class=\"dataframe\">\n",
       "  <thead>\n",
       "    <tr style=\"text-align: right;\">\n",
       "      <th></th>\n",
       "      <th>Rank</th>\n",
       "      <th>CCA3</th>\n",
       "      <th>Country</th>\n",
       "      <th>Capital</th>\n",
       "      <th>Continent</th>\n",
       "      <th>2022 Population</th>\n",
       "      <th>2020 Population</th>\n",
       "      <th>2015 Population</th>\n",
       "      <th>2010 Population</th>\n",
       "      <th>2000 Population</th>\n",
       "      <th>1990 Population</th>\n",
       "      <th>1980 Population</th>\n",
       "      <th>1970 Population</th>\n",
       "      <th>Area (km²)</th>\n",
       "      <th>Density (per km²)</th>\n",
       "      <th>Growth Rate</th>\n",
       "      <th>World Population Percentage</th>\n",
       "    </tr>\n",
       "  </thead>\n",
       "  <tbody>\n",
       "    <tr>\n",
       "      <th>0</th>\n",
       "      <td>36</td>\n",
       "      <td>AFG</td>\n",
       "      <td>Afghanistan</td>\n",
       "      <td>Kabul</td>\n",
       "      <td>Asia</td>\n",
       "      <td>41128771</td>\n",
       "      <td>38972230</td>\n",
       "      <td>33753499</td>\n",
       "      <td>28189672</td>\n",
       "      <td>19542982</td>\n",
       "      <td>10694796</td>\n",
       "      <td>12486631</td>\n",
       "      <td>10752971</td>\n",
       "      <td>652230</td>\n",
       "      <td>63.0587</td>\n",
       "      <td>1.0257</td>\n",
       "      <td>0.52</td>\n",
       "    </tr>\n",
       "    <tr>\n",
       "      <th>1</th>\n",
       "      <td>138</td>\n",
       "      <td>ALB</td>\n",
       "      <td>Albania</td>\n",
       "      <td>Tirana</td>\n",
       "      <td>Europe</td>\n",
       "      <td>2842321</td>\n",
       "      <td>2866849</td>\n",
       "      <td>2882481</td>\n",
       "      <td>2913399</td>\n",
       "      <td>3182021</td>\n",
       "      <td>3295066</td>\n",
       "      <td>2941651</td>\n",
       "      <td>2324731</td>\n",
       "      <td>28748</td>\n",
       "      <td>98.8702</td>\n",
       "      <td>0.9957</td>\n",
       "      <td>0.04</td>\n",
       "    </tr>\n",
       "    <tr>\n",
       "      <th>2</th>\n",
       "      <td>34</td>\n",
       "      <td>DZA</td>\n",
       "      <td>Algeria</td>\n",
       "      <td>Algiers</td>\n",
       "      <td>Africa</td>\n",
       "      <td>44903225</td>\n",
       "      <td>43451666</td>\n",
       "      <td>39543154</td>\n",
       "      <td>35856344</td>\n",
       "      <td>30774621</td>\n",
       "      <td>25518074</td>\n",
       "      <td>18739378</td>\n",
       "      <td>13795915</td>\n",
       "      <td>2381741</td>\n",
       "      <td>18.8531</td>\n",
       "      <td>1.0164</td>\n",
       "      <td>0.56</td>\n",
       "    </tr>\n",
       "    <tr>\n",
       "      <th>3</th>\n",
       "      <td>213</td>\n",
       "      <td>ASM</td>\n",
       "      <td>American Samoa</td>\n",
       "      <td>Pago Pago</td>\n",
       "      <td>Oceania</td>\n",
       "      <td>44273</td>\n",
       "      <td>46189</td>\n",
       "      <td>51368</td>\n",
       "      <td>54849</td>\n",
       "      <td>58230</td>\n",
       "      <td>47818</td>\n",
       "      <td>32886</td>\n",
       "      <td>27075</td>\n",
       "      <td>199</td>\n",
       "      <td>222.4774</td>\n",
       "      <td>0.9831</td>\n",
       "      <td>0.00</td>\n",
       "    </tr>\n",
       "    <tr>\n",
       "      <th>4</th>\n",
       "      <td>203</td>\n",
       "      <td>AND</td>\n",
       "      <td>Andorra</td>\n",
       "      <td>Andorra la Vella</td>\n",
       "      <td>Europe</td>\n",
       "      <td>79824</td>\n",
       "      <td>77700</td>\n",
       "      <td>71746</td>\n",
       "      <td>71519</td>\n",
       "      <td>66097</td>\n",
       "      <td>53569</td>\n",
       "      <td>35611</td>\n",
       "      <td>19860</td>\n",
       "      <td>468</td>\n",
       "      <td>170.5641</td>\n",
       "      <td>1.0100</td>\n",
       "      <td>0.00</td>\n",
       "    </tr>\n",
       "    <tr>\n",
       "      <th>...</th>\n",
       "      <td>...</td>\n",
       "      <td>...</td>\n",
       "      <td>...</td>\n",
       "      <td>...</td>\n",
       "      <td>...</td>\n",
       "      <td>...</td>\n",
       "      <td>...</td>\n",
       "      <td>...</td>\n",
       "      <td>...</td>\n",
       "      <td>...</td>\n",
       "      <td>...</td>\n",
       "      <td>...</td>\n",
       "      <td>...</td>\n",
       "      <td>...</td>\n",
       "      <td>...</td>\n",
       "      <td>...</td>\n",
       "      <td>...</td>\n",
       "    </tr>\n",
       "    <tr>\n",
       "      <th>229</th>\n",
       "      <td>226</td>\n",
       "      <td>WLF</td>\n",
       "      <td>Wallis and Futuna</td>\n",
       "      <td>Mata-Utu</td>\n",
       "      <td>Oceania</td>\n",
       "      <td>11572</td>\n",
       "      <td>11655</td>\n",
       "      <td>12182</td>\n",
       "      <td>13142</td>\n",
       "      <td>14723</td>\n",
       "      <td>13454</td>\n",
       "      <td>11315</td>\n",
       "      <td>9377</td>\n",
       "      <td>142</td>\n",
       "      <td>81.4930</td>\n",
       "      <td>0.9953</td>\n",
       "      <td>0.00</td>\n",
       "    </tr>\n",
       "    <tr>\n",
       "      <th>230</th>\n",
       "      <td>172</td>\n",
       "      <td>ESH</td>\n",
       "      <td>Western Sahara</td>\n",
       "      <td>El Aaiún</td>\n",
       "      <td>Africa</td>\n",
       "      <td>575986</td>\n",
       "      <td>556048</td>\n",
       "      <td>491824</td>\n",
       "      <td>413296</td>\n",
       "      <td>270375</td>\n",
       "      <td>178529</td>\n",
       "      <td>116775</td>\n",
       "      <td>76371</td>\n",
       "      <td>266000</td>\n",
       "      <td>2.1654</td>\n",
       "      <td>1.0184</td>\n",
       "      <td>0.01</td>\n",
       "    </tr>\n",
       "    <tr>\n",
       "      <th>231</th>\n",
       "      <td>46</td>\n",
       "      <td>YEM</td>\n",
       "      <td>Yemen</td>\n",
       "      <td>Sanaa</td>\n",
       "      <td>Asia</td>\n",
       "      <td>33696614</td>\n",
       "      <td>32284046</td>\n",
       "      <td>28516545</td>\n",
       "      <td>24743946</td>\n",
       "      <td>18628700</td>\n",
       "      <td>13375121</td>\n",
       "      <td>9204938</td>\n",
       "      <td>6843607</td>\n",
       "      <td>527968</td>\n",
       "      <td>63.8232</td>\n",
       "      <td>1.0217</td>\n",
       "      <td>0.42</td>\n",
       "    </tr>\n",
       "    <tr>\n",
       "      <th>232</th>\n",
       "      <td>63</td>\n",
       "      <td>ZMB</td>\n",
       "      <td>Zambia</td>\n",
       "      <td>Lusaka</td>\n",
       "      <td>Africa</td>\n",
       "      <td>20017675</td>\n",
       "      <td>18927715</td>\n",
       "      <td>16248230</td>\n",
       "      <td>13792086</td>\n",
       "      <td>9891136</td>\n",
       "      <td>7686401</td>\n",
       "      <td>5720438</td>\n",
       "      <td>4281671</td>\n",
       "      <td>752612</td>\n",
       "      <td>26.5976</td>\n",
       "      <td>1.0280</td>\n",
       "      <td>0.25</td>\n",
       "    </tr>\n",
       "    <tr>\n",
       "      <th>233</th>\n",
       "      <td>74</td>\n",
       "      <td>ZWE</td>\n",
       "      <td>Zimbabwe</td>\n",
       "      <td>Harare</td>\n",
       "      <td>Africa</td>\n",
       "      <td>16320537</td>\n",
       "      <td>15669666</td>\n",
       "      <td>14154937</td>\n",
       "      <td>12839771</td>\n",
       "      <td>11834676</td>\n",
       "      <td>10113893</td>\n",
       "      <td>7049926</td>\n",
       "      <td>5202918</td>\n",
       "      <td>390757</td>\n",
       "      <td>41.7665</td>\n",
       "      <td>1.0204</td>\n",
       "      <td>0.20</td>\n",
       "    </tr>\n",
       "  </tbody>\n",
       "</table>\n",
       "<p>234 rows × 17 columns</p>\n",
       "</div>"
      ],
      "text/plain": [
       "     Rank CCA3            Country           Capital Continent  \\\n",
       "0      36  AFG        Afghanistan             Kabul      Asia   \n",
       "1     138  ALB            Albania            Tirana    Europe   \n",
       "2      34  DZA            Algeria           Algiers    Africa   \n",
       "3     213  ASM     American Samoa         Pago Pago   Oceania   \n",
       "4     203  AND            Andorra  Andorra la Vella    Europe   \n",
       "..    ...  ...                ...               ...       ...   \n",
       "229   226  WLF  Wallis and Futuna          Mata-Utu   Oceania   \n",
       "230   172  ESH     Western Sahara          El Aaiún    Africa   \n",
       "231    46  YEM              Yemen             Sanaa      Asia   \n",
       "232    63  ZMB             Zambia            Lusaka    Africa   \n",
       "233    74  ZWE           Zimbabwe            Harare    Africa   \n",
       "\n",
       "     2022 Population  2020 Population  2015 Population  2010 Population  \\\n",
       "0           41128771         38972230         33753499         28189672   \n",
       "1            2842321          2866849          2882481          2913399   \n",
       "2           44903225         43451666         39543154         35856344   \n",
       "3              44273            46189            51368            54849   \n",
       "4              79824            77700            71746            71519   \n",
       "..               ...              ...              ...              ...   \n",
       "229            11572            11655            12182            13142   \n",
       "230           575986           556048           491824           413296   \n",
       "231         33696614         32284046         28516545         24743946   \n",
       "232         20017675         18927715         16248230         13792086   \n",
       "233         16320537         15669666         14154937         12839771   \n",
       "\n",
       "     2000 Population  1990 Population  1980 Population  1970 Population  \\\n",
       "0           19542982         10694796         12486631         10752971   \n",
       "1            3182021          3295066          2941651          2324731   \n",
       "2           30774621         25518074         18739378         13795915   \n",
       "3              58230            47818            32886            27075   \n",
       "4              66097            53569            35611            19860   \n",
       "..               ...              ...              ...              ...   \n",
       "229            14723            13454            11315             9377   \n",
       "230           270375           178529           116775            76371   \n",
       "231         18628700         13375121          9204938          6843607   \n",
       "232          9891136          7686401          5720438          4281671   \n",
       "233         11834676         10113893          7049926          5202918   \n",
       "\n",
       "     Area (km²)  Density (per km²)  Growth Rate  World Population Percentage  \n",
       "0        652230            63.0587       1.0257                         0.52  \n",
       "1         28748            98.8702       0.9957                         0.04  \n",
       "2       2381741            18.8531       1.0164                         0.56  \n",
       "3           199           222.4774       0.9831                         0.00  \n",
       "4           468           170.5641       1.0100                         0.00  \n",
       "..          ...                ...          ...                          ...  \n",
       "229         142            81.4930       0.9953                         0.00  \n",
       "230      266000             2.1654       1.0184                         0.01  \n",
       "231      527968            63.8232       1.0217                         0.42  \n",
       "232      752612            26.5976       1.0280                         0.25  \n",
       "233      390757            41.7665       1.0204                         0.20  \n",
       "\n",
       "[234 rows x 17 columns]"
      ]
     },
     "execution_count": 5,
     "metadata": {},
     "output_type": "execute_result"
    }
   ],
   "source": [
    "world_pop_df = pd.read_csv('world_population.csv')\n",
    "\n",
    "#Extract a copy of raw df to keep the raw df unaffected / untouched \n",
    "world_pop_df_copy = world_pop_df.copy()\n",
    "world_pop_df_copy"
   ]
  },
  {
   "cell_type": "markdown",
   "id": "5e4367fa-4b20-4bb2-9d33-665add9eceeb",
   "metadata": {},
   "source": [
    "## a. Data shape"
   ]
  },
  {
   "cell_type": "code",
   "execution_count": 6,
   "id": "e79a2b9b-ca46-4f3f-ad71-aed5fb85ae67",
   "metadata": {},
   "outputs": [
    {
     "name": "stdout",
     "output_type": "stream",
     "text": [
      "The dataset has 234 rows\n",
      "The dataset has 17 columns\n"
     ]
    }
   ],
   "source": [
    "print(f'The dataset has {world_pop_df_copy.shape[0]} rows')\n",
    "print(f'The dataset has {world_pop_df_copy.shape[1]} columns')\n",
    "\n",
    "#drop the CCA3 column which is not necessary for the project \n",
    "world_pop_df_copy.drop(['CCA3'],axis=1, inplace =True, errors = 'ignore')"
   ]
  },
  {
   "cell_type": "markdown",
   "id": "b4b5b0a1-0d9b-4a95-977b-9afcab3431c7",
   "metadata": {},
   "source": [
    "## b. Are there duplicates in dataset ?"
   ]
  },
  {
   "cell_type": "code",
   "execution_count": 7,
   "id": "d12b9eac-e449-4aab-b1c8-345d203305ce",
   "metadata": {},
   "outputs": [
    {
     "name": "stdout",
     "output_type": "stream",
     "text": [
      "The dataset has 0 duplicates\n"
     ]
    }
   ],
   "source": [
    "num_dup = world_pop_df_copy.shape[0] - world_pop_df_copy.drop_duplicates().shape[0]\n",
    "print(f'The dataset has {num_dup} duplicates')"
   ]
  },
  {
   "cell_type": "markdown",
   "id": "1afe6c42-16a4-48d5-872e-db909274caf4",
   "metadata": {},
   "source": [
    "## c. Are there odd data types ?"
   ]
  },
  {
   "cell_type": "code",
   "execution_count": 8,
   "id": "60caab7e-7258-4c6a-8d1c-e84bac350179",
   "metadata": {},
   "outputs": [
    {
     "data": {
      "text/plain": [
       "Rank                             int64\n",
       "Country                         object\n",
       "Capital                         object\n",
       "Continent                       object\n",
       "2022 Population                  int64\n",
       "2020 Population                  int64\n",
       "2015 Population                  int64\n",
       "2010 Population                  int64\n",
       "2000 Population                  int64\n",
       "1990 Population                  int64\n",
       "1980 Population                  int64\n",
       "1970 Population                  int64\n",
       "Area (km²)                       int64\n",
       "Density (per km²)              float64\n",
       "Growth Rate                    float64\n",
       "World Population Percentage    float64\n",
       "dtype: object"
      ]
     },
     "execution_count": 8,
     "metadata": {},
     "output_type": "execute_result"
    }
   ],
   "source": [
    "world_pop_df_copy.dtypes"
   ]
  },
  {
   "cell_type": "markdown",
   "id": "681ce539-60af-4350-aaad-3f7777a752f5",
   "metadata": {},
   "source": [
    "**<font size ='3'> The data types are normal</font>**"
   ]
  },
  {
   "cell_type": "markdown",
   "id": "834a5e64-492b-48a1-b22e-307f9b927802",
   "metadata": {},
   "source": [
    "## d. Lack of data ?"
   ]
  },
  {
   "cell_type": "code",
   "execution_count": 9,
   "id": "e1432a17",
   "metadata": {},
   "outputs": [
    {
     "data": {
      "text/plain": [
       "Rank                           0\n",
       "Country                        0\n",
       "Capital                        0\n",
       "Continent                      0\n",
       "2022 Population                0\n",
       "2020 Population                0\n",
       "2015 Population                0\n",
       "2010 Population                0\n",
       "2000 Population                0\n",
       "1990 Population                0\n",
       "1980 Population                0\n",
       "1970 Population                0\n",
       "Area (km²)                     0\n",
       "Density (per km²)              0\n",
       "Growth Rate                    0\n",
       "World Population Percentage    0\n",
       "dtype: int64"
      ]
     },
     "execution_count": 9,
     "metadata": {},
     "output_type": "execute_result"
    }
   ],
   "source": [
    "overall_world_pop = world_pop_df_copy.isna().sum()\n",
    "overall_world_pop"
   ]
  },
  {
   "cell_type": "markdown",
   "id": "d69f721f",
   "metadata": {},
   "source": [
    "**<font size ='3'> None of the column has any NaN values</font>**"
   ]
  },
  {
   "cell_type": "markdown",
   "id": "9fe23980",
   "metadata": {},
   "source": [
    "# 2. Exploratory analysis"
   ]
  },
  {
   "cell_type": "markdown",
   "id": "7b8ff139-67e9-4d5f-ad3b-cb5e49b43304",
   "metadata": {},
   "source": [
    "## a.  Discover numeric data"
   ]
  },
  {
   "cell_type": "code",
   "execution_count": 10,
   "id": "3e3e6a77-02eb-4b9e-b2df-78a1821bb25c",
   "metadata": {},
   "outputs": [
    {
     "data": {
      "text/html": [
       "<div>\n",
       "<style scoped>\n",
       "    .dataframe tbody tr th:only-of-type {\n",
       "        vertical-align: middle;\n",
       "    }\n",
       "\n",
       "    .dataframe tbody tr th {\n",
       "        vertical-align: top;\n",
       "    }\n",
       "\n",
       "    .dataframe thead th {\n",
       "        text-align: right;\n",
       "    }\n",
       "</style>\n",
       "<table border=\"1\" class=\"dataframe\">\n",
       "  <thead>\n",
       "    <tr style=\"text-align: right;\">\n",
       "      <th></th>\n",
       "      <th>Rank</th>\n",
       "      <th>2022 Population</th>\n",
       "      <th>2020 Population</th>\n",
       "      <th>2015 Population</th>\n",
       "      <th>2010 Population</th>\n",
       "      <th>2000 Population</th>\n",
       "      <th>1990 Population</th>\n",
       "      <th>1980 Population</th>\n",
       "      <th>1970 Population</th>\n",
       "      <th>Area (km²)</th>\n",
       "      <th>Density (per km²)</th>\n",
       "      <th>Growth Rate</th>\n",
       "      <th>World Population Percentage</th>\n",
       "    </tr>\n",
       "  </thead>\n",
       "  <tbody>\n",
       "    <tr>\n",
       "      <th>count</th>\n",
       "      <td>234.000000</td>\n",
       "      <td>2.340000e+02</td>\n",
       "      <td>2.340000e+02</td>\n",
       "      <td>2.340000e+02</td>\n",
       "      <td>2.340000e+02</td>\n",
       "      <td>2.340000e+02</td>\n",
       "      <td>2.340000e+02</td>\n",
       "      <td>2.340000e+02</td>\n",
       "      <td>2.340000e+02</td>\n",
       "      <td>2.340000e+02</td>\n",
       "      <td>234.000000</td>\n",
       "      <td>234.000000</td>\n",
       "      <td>234.000000</td>\n",
       "    </tr>\n",
       "    <tr>\n",
       "      <th>mean</th>\n",
       "      <td>117.500000</td>\n",
       "      <td>3.407441e+07</td>\n",
       "      <td>3.350107e+07</td>\n",
       "      <td>3.172996e+07</td>\n",
       "      <td>2.984524e+07</td>\n",
       "      <td>2.626947e+07</td>\n",
       "      <td>2.271022e+07</td>\n",
       "      <td>1.898462e+07</td>\n",
       "      <td>1.578691e+07</td>\n",
       "      <td>5.814494e+05</td>\n",
       "      <td>452.127044</td>\n",
       "      <td>1.009577</td>\n",
       "      <td>0.427051</td>\n",
       "    </tr>\n",
       "    <tr>\n",
       "      <th>std</th>\n",
       "      <td>67.694165</td>\n",
       "      <td>1.367664e+08</td>\n",
       "      <td>1.355899e+08</td>\n",
       "      <td>1.304050e+08</td>\n",
       "      <td>1.242185e+08</td>\n",
       "      <td>1.116982e+08</td>\n",
       "      <td>9.783217e+07</td>\n",
       "      <td>8.178519e+07</td>\n",
       "      <td>6.779509e+07</td>\n",
       "      <td>1.761841e+06</td>\n",
       "      <td>2066.121904</td>\n",
       "      <td>0.013385</td>\n",
       "      <td>1.714977</td>\n",
       "    </tr>\n",
       "    <tr>\n",
       "      <th>min</th>\n",
       "      <td>1.000000</td>\n",
       "      <td>5.100000e+02</td>\n",
       "      <td>5.200000e+02</td>\n",
       "      <td>5.640000e+02</td>\n",
       "      <td>5.960000e+02</td>\n",
       "      <td>6.510000e+02</td>\n",
       "      <td>7.000000e+02</td>\n",
       "      <td>7.330000e+02</td>\n",
       "      <td>7.520000e+02</td>\n",
       "      <td>1.000000e+00</td>\n",
       "      <td>0.026100</td>\n",
       "      <td>0.912000</td>\n",
       "      <td>0.000000</td>\n",
       "    </tr>\n",
       "    <tr>\n",
       "      <th>25%</th>\n",
       "      <td>59.250000</td>\n",
       "      <td>4.197385e+05</td>\n",
       "      <td>4.152845e+05</td>\n",
       "      <td>4.046760e+05</td>\n",
       "      <td>3.931490e+05</td>\n",
       "      <td>3.272420e+05</td>\n",
       "      <td>2.641158e+05</td>\n",
       "      <td>2.296142e+05</td>\n",
       "      <td>1.559970e+05</td>\n",
       "      <td>2.650000e+03</td>\n",
       "      <td>38.417875</td>\n",
       "      <td>1.001775</td>\n",
       "      <td>0.010000</td>\n",
       "    </tr>\n",
       "    <tr>\n",
       "      <th>50%</th>\n",
       "      <td>117.500000</td>\n",
       "      <td>5.559944e+06</td>\n",
       "      <td>5.493074e+06</td>\n",
       "      <td>5.307400e+06</td>\n",
       "      <td>4.942770e+06</td>\n",
       "      <td>4.292907e+06</td>\n",
       "      <td>3.825410e+06</td>\n",
       "      <td>3.141146e+06</td>\n",
       "      <td>2.604830e+06</td>\n",
       "      <td>8.119950e+04</td>\n",
       "      <td>95.346750</td>\n",
       "      <td>1.007900</td>\n",
       "      <td>0.070000</td>\n",
       "    </tr>\n",
       "    <tr>\n",
       "      <th>75%</th>\n",
       "      <td>175.750000</td>\n",
       "      <td>2.247650e+07</td>\n",
       "      <td>2.144798e+07</td>\n",
       "      <td>1.973085e+07</td>\n",
       "      <td>1.915957e+07</td>\n",
       "      <td>1.576230e+07</td>\n",
       "      <td>1.186923e+07</td>\n",
       "      <td>9.826054e+06</td>\n",
       "      <td>8.817329e+06</td>\n",
       "      <td>4.304258e+05</td>\n",
       "      <td>238.933250</td>\n",
       "      <td>1.016950</td>\n",
       "      <td>0.280000</td>\n",
       "    </tr>\n",
       "    <tr>\n",
       "      <th>max</th>\n",
       "      <td>234.000000</td>\n",
       "      <td>1.425887e+09</td>\n",
       "      <td>1.424930e+09</td>\n",
       "      <td>1.393715e+09</td>\n",
       "      <td>1.348191e+09</td>\n",
       "      <td>1.264099e+09</td>\n",
       "      <td>1.153704e+09</td>\n",
       "      <td>9.823725e+08</td>\n",
       "      <td>8.225344e+08</td>\n",
       "      <td>1.709824e+07</td>\n",
       "      <td>23172.266700</td>\n",
       "      <td>1.069100</td>\n",
       "      <td>17.880000</td>\n",
       "    </tr>\n",
       "  </tbody>\n",
       "</table>\n",
       "</div>"
      ],
      "text/plain": [
       "             Rank  2022 Population  2020 Population  2015 Population  \\\n",
       "count  234.000000     2.340000e+02     2.340000e+02     2.340000e+02   \n",
       "mean   117.500000     3.407441e+07     3.350107e+07     3.172996e+07   \n",
       "std     67.694165     1.367664e+08     1.355899e+08     1.304050e+08   \n",
       "min      1.000000     5.100000e+02     5.200000e+02     5.640000e+02   \n",
       "25%     59.250000     4.197385e+05     4.152845e+05     4.046760e+05   \n",
       "50%    117.500000     5.559944e+06     5.493074e+06     5.307400e+06   \n",
       "75%    175.750000     2.247650e+07     2.144798e+07     1.973085e+07   \n",
       "max    234.000000     1.425887e+09     1.424930e+09     1.393715e+09   \n",
       "\n",
       "       2010 Population  2000 Population  1990 Population  1980 Population  \\\n",
       "count     2.340000e+02     2.340000e+02     2.340000e+02     2.340000e+02   \n",
       "mean      2.984524e+07     2.626947e+07     2.271022e+07     1.898462e+07   \n",
       "std       1.242185e+08     1.116982e+08     9.783217e+07     8.178519e+07   \n",
       "min       5.960000e+02     6.510000e+02     7.000000e+02     7.330000e+02   \n",
       "25%       3.931490e+05     3.272420e+05     2.641158e+05     2.296142e+05   \n",
       "50%       4.942770e+06     4.292907e+06     3.825410e+06     3.141146e+06   \n",
       "75%       1.915957e+07     1.576230e+07     1.186923e+07     9.826054e+06   \n",
       "max       1.348191e+09     1.264099e+09     1.153704e+09     9.823725e+08   \n",
       "\n",
       "       1970 Population    Area (km²)  Density (per km²)  Growth Rate  \\\n",
       "count     2.340000e+02  2.340000e+02         234.000000   234.000000   \n",
       "mean      1.578691e+07  5.814494e+05         452.127044     1.009577   \n",
       "std       6.779509e+07  1.761841e+06        2066.121904     0.013385   \n",
       "min       7.520000e+02  1.000000e+00           0.026100     0.912000   \n",
       "25%       1.559970e+05  2.650000e+03          38.417875     1.001775   \n",
       "50%       2.604830e+06  8.119950e+04          95.346750     1.007900   \n",
       "75%       8.817329e+06  4.304258e+05         238.933250     1.016950   \n",
       "max       8.225344e+08  1.709824e+07       23172.266700     1.069100   \n",
       "\n",
       "       World Population Percentage  \n",
       "count                   234.000000  \n",
       "mean                      0.427051  \n",
       "std                       1.714977  \n",
       "min                       0.000000  \n",
       "25%                       0.010000  \n",
       "50%                       0.070000  \n",
       "75%                       0.280000  \n",
       "max                      17.880000  "
      ]
     },
     "execution_count": 10,
     "metadata": {},
     "output_type": "execute_result"
    }
   ],
   "source": [
    "num_df = world_pop_df_copy.select_dtypes(['float64', 'int64'])\n",
    "num_df.describe()"
   ]
  },
  {
   "cell_type": "code",
   "execution_count": 47,
   "id": "f0e148df-922b-4117-a2df-181d9db88d07",
   "metadata": {},
   "outputs": [
    {
     "data": {
      "text/plain": [
       "Text(0.5, 1.0, 'World Population from 1970-2022')"
      ]
     },
     "execution_count": 47,
     "metadata": {},
     "output_type": "execute_result"
    },
    {
     "data": {
      "image/png": "[encoded data removed]",
      "text/plain": [
       "<Figure size 864x432 with 1 Axes>"
      ]
     },
     "metadata": {
      "needs_background": "light"
     },
     "output_type": "display_data"
    }
   ],
   "source": [
    "#sum of all columns of the dataset\n",
    "sum_columns=world_pop_df_copy.groupby(by='Country').sum().sum()\n",
    "\n",
    "#sum of population through each year\n",
    "sum_year_pop=sum_columns[1:9].sort_values(ascending=True)\n",
    "sum\n",
    "\n",
    "# Year dataframe\n",
    "years=[1970,1980,1990,2000,2010,2015,2020,2022]\n",
    "\n",
    "#create line chart\n",
    "plt.figure(figsize=(12,6))\n",
    "plt.plot(years, sum_year_pop, 's-r')\n",
    "\n",
    "plt.xlabel('Year')\n",
    "plt.ylabel('Population')\n",
    "\n",
    "plt.title(\"World Population from 1970-2022\")"
   ]
  },
  {
   "cell_type": "markdown",
   "id": "b079752e-fa37-4806-aae6-da977913fa54",
   "metadata": {},
   "source": [
    "## 6. Khám phá dữ liệu category"
   ]
  },
  {
   "cell_type": "code",
   "execution_count": 11,
   "id": "44a9daec-cde9-4a6d-960e-a261ddff4b33",
   "metadata": {},
   "outputs": [
    {
     "data": {
      "text/html": [
       "<div>\n",
       "<style scoped>\n",
       "    .dataframe tbody tr th:only-of-type {\n",
       "        vertical-align: middle;\n",
       "    }\n",
       "\n",
       "    .dataframe tbody tr th {\n",
       "        vertical-align: top;\n",
       "    }\n",
       "\n",
       "    .dataframe thead th {\n",
       "        text-align: right;\n",
       "    }\n",
       "</style>\n",
       "<table border=\"1\" class=\"dataframe\">\n",
       "  <thead>\n",
       "    <tr style=\"text-align: right;\">\n",
       "      <th></th>\n",
       "      <th>job</th>\n",
       "      <th>marital</th>\n",
       "      <th>education</th>\n",
       "      <th>default</th>\n",
       "      <th>housing</th>\n",
       "      <th>loan</th>\n",
       "      <th>contact</th>\n",
       "      <th>month</th>\n",
       "      <th>day_of_week</th>\n",
       "      <th>poutcome</th>\n",
       "      <th>y</th>\n",
       "    </tr>\n",
       "  </thead>\n",
       "  <tbody>\n",
       "    <tr>\n",
       "      <th>0</th>\n",
       "      <td>housemaid</td>\n",
       "      <td>married</td>\n",
       "      <td>basic.4y</td>\n",
       "      <td>no</td>\n",
       "      <td>no</td>\n",
       "      <td>no</td>\n",
       "      <td>telephone</td>\n",
       "      <td>may</td>\n",
       "      <td>mon</td>\n",
       "      <td>nonexistent</td>\n",
       "      <td>no</td>\n",
       "    </tr>\n",
       "    <tr>\n",
       "      <th>1</th>\n",
       "      <td>services</td>\n",
       "      <td>married</td>\n",
       "      <td>high.school</td>\n",
       "      <td>no</td>\n",
       "      <td>yes</td>\n",
       "      <td>no</td>\n",
       "      <td>telephone</td>\n",
       "      <td>may</td>\n",
       "      <td>mon</td>\n",
       "      <td>nonexistent</td>\n",
       "      <td>no</td>\n",
       "    </tr>\n",
       "    <tr>\n",
       "      <th>2</th>\n",
       "      <td>admin.</td>\n",
       "      <td>married</td>\n",
       "      <td>basic.6y</td>\n",
       "      <td>no</td>\n",
       "      <td>no</td>\n",
       "      <td>no</td>\n",
       "      <td>telephone</td>\n",
       "      <td>may</td>\n",
       "      <td>mon</td>\n",
       "      <td>nonexistent</td>\n",
       "      <td>no</td>\n",
       "    </tr>\n",
       "    <tr>\n",
       "      <th>3</th>\n",
       "      <td>services</td>\n",
       "      <td>married</td>\n",
       "      <td>high.school</td>\n",
       "      <td>no</td>\n",
       "      <td>no</td>\n",
       "      <td>yes</td>\n",
       "      <td>telephone</td>\n",
       "      <td>may</td>\n",
       "      <td>mon</td>\n",
       "      <td>nonexistent</td>\n",
       "      <td>no</td>\n",
       "    </tr>\n",
       "    <tr>\n",
       "      <th>4</th>\n",
       "      <td>admin.</td>\n",
       "      <td>married</td>\n",
       "      <td>professional.course</td>\n",
       "      <td>no</td>\n",
       "      <td>no</td>\n",
       "      <td>no</td>\n",
       "      <td>telephone</td>\n",
       "      <td>may</td>\n",
       "      <td>mon</td>\n",
       "      <td>nonexistent</td>\n",
       "      <td>no</td>\n",
       "    </tr>\n",
       "  </tbody>\n",
       "</table>\n",
       "</div>"
      ],
      "text/plain": [
       "         job  marital            education default housing loan    contact  \\\n",
       "0  housemaid  married             basic.4y      no      no   no  telephone   \n",
       "1   services  married          high.school      no     yes   no  telephone   \n",
       "2     admin.  married             basic.6y      no      no   no  telephone   \n",
       "3   services  married          high.school      no      no  yes  telephone   \n",
       "4     admin.  married  professional.course      no      no   no  telephone   \n",
       "\n",
       "  month day_of_week     poutcome   y  \n",
       "0   may         mon  nonexistent  no  \n",
       "1   may         mon  nonexistent  no  \n",
       "2   may         mon  nonexistent  no  \n",
       "3   may         mon  nonexistent  no  \n",
       "4   may         mon  nonexistent  no  "
      ]
     },
     "execution_count": 11,
     "metadata": {},
     "output_type": "execute_result"
    }
   ],
   "source": [
    "cate_df =df.select_dtypes('object')\n",
    "cate_df.head()"
   ]
  },
  {
   "cell_type": "code",
   "execution_count": 12,
   "id": "ae5cbddb-5c1b-4749-bc02-825d34334d32",
   "metadata": {},
   "outputs": [
    {
     "data": {
      "image/png": "[encoded data removed]",
      "text/plain": [
       "<Figure size 1800x1440 with 12 Axes>"
      ]
     },
     "metadata": {
      "needs_background": "light"
     },
     "output_type": "display_data"
    }
   ],
   "source": [
    "fig, axs = plt.subplots(3,4,constrained_layout = True, figsize = (25,20))\n",
    "for idx in range(cate_df.shape[1]):\n",
    "    r, c = idx // 4, idx % 4\n",
    "    sns.countplot(x = cate_df.iloc[:,idx], ax = axs[r,c], color = 'tab:blue')\n",
    "\n",
    "    axs[r,c].set_title(f'{cate_df.columns[idx]}', fontsize = 20, color = 'red')\n",
    "    axs[r,c].tick_params('x', rotation = 45)\n",
    "    axs[r,c].xaxis.label.set_visible(False)\n",
    "    axs[r,c].yaxis.label.set_visible(False)\n",
    "\n",
    "axs[2,3].set_visible(False)"
   ]
  },
  {
   "cell_type": "markdown",
   "id": "755b0c3b-28f3-4acc-80e2-d0980bf5350b",
   "metadata": {},
   "source": [
    "- <font size = '4'>Có thể thấy, cột y là giá trị phải dự đoán bị `imbalanced` </font>"
   ]
  },
  {
   "cell_type": "markdown",
   "id": "daa10d6d-ca91-45ef-925e-100c108c1153",
   "metadata": {},
   "source": [
    "# 2. EDA"
   ]
  },
  {
   "cell_type": "markdown",
   "id": "809cf984-7f45-472d-8e17-364790970b61",
   "metadata": {
    "tags": []
   },
   "source": [
    "## 1. Thống kê số lượng các khoản nợ và tỷ lệ đăng ký theo nghề nghiệp"
   ]
  },
  {
   "cell_type": "code",
   "execution_count": 13,
   "id": "d972b3a7-c263-4c5e-9386-8bb159befa85",
   "metadata": {
    "tags": []
   },
   "outputs": [
    {
     "data": {
      "text/html": [
       "<div>\n",
       "<style scoped>\n",
       "    .dataframe tbody tr th:only-of-type {\n",
       "        vertical-align: middle;\n",
       "    }\n",
       "\n",
       "    .dataframe tbody tr th {\n",
       "        vertical-align: top;\n",
       "    }\n",
       "\n",
       "    .dataframe thead th {\n",
       "        text-align: right;\n",
       "    }\n",
       "</style>\n",
       "<table border=\"1\" class=\"dataframe\">\n",
       "  <thead>\n",
       "    <tr style=\"text-align: right;\">\n",
       "      <th></th>\n",
       "      <th>job</th>\n",
       "      <th>default</th>\n",
       "      <th>housing</th>\n",
       "      <th>loan</th>\n",
       "      <th>y</th>\n",
       "    </tr>\n",
       "  </thead>\n",
       "  <tbody>\n",
       "    <tr>\n",
       "      <th>0</th>\n",
       "      <td>admin.</td>\n",
       "      <td>0</td>\n",
       "      <td>4777</td>\n",
       "      <td>1484</td>\n",
       "      <td>1215</td>\n",
       "    </tr>\n",
       "    <tr>\n",
       "      <th>1</th>\n",
       "      <td>blue-collar</td>\n",
       "      <td>0</td>\n",
       "      <td>3017</td>\n",
       "      <td>893</td>\n",
       "      <td>452</td>\n",
       "    </tr>\n",
       "    <tr>\n",
       "      <th>2</th>\n",
       "      <td>entrepreneur</td>\n",
       "      <td>0</td>\n",
       "      <td>602</td>\n",
       "      <td>159</td>\n",
       "      <td>101</td>\n",
       "    </tr>\n",
       "    <tr>\n",
       "      <th>3</th>\n",
       "      <td>housemaid</td>\n",
       "      <td>0</td>\n",
       "      <td>364</td>\n",
       "      <td>97</td>\n",
       "      <td>87</td>\n",
       "    </tr>\n",
       "    <tr>\n",
       "      <th>4</th>\n",
       "      <td>management</td>\n",
       "      <td>0</td>\n",
       "      <td>1221</td>\n",
       "      <td>355</td>\n",
       "      <td>286</td>\n",
       "    </tr>\n",
       "    <tr>\n",
       "      <th>5</th>\n",
       "      <td>retired</td>\n",
       "      <td>0</td>\n",
       "      <td>662</td>\n",
       "      <td>166</td>\n",
       "      <td>357</td>\n",
       "    </tr>\n",
       "    <tr>\n",
       "      <th>6</th>\n",
       "      <td>self-employed</td>\n",
       "      <td>0</td>\n",
       "      <td>592</td>\n",
       "      <td>154</td>\n",
       "      <td>132</td>\n",
       "    </tr>\n",
       "    <tr>\n",
       "      <th>7</th>\n",
       "      <td>services</td>\n",
       "      <td>0</td>\n",
       "      <td>1501</td>\n",
       "      <td>433</td>\n",
       "      <td>258</td>\n",
       "    </tr>\n",
       "    <tr>\n",
       "      <th>8</th>\n",
       "      <td>student</td>\n",
       "      <td>0</td>\n",
       "      <td>328</td>\n",
       "      <td>102</td>\n",
       "      <td>203</td>\n",
       "    </tr>\n",
       "    <tr>\n",
       "      <th>9</th>\n",
       "      <td>technician</td>\n",
       "      <td>2</td>\n",
       "      <td>3033</td>\n",
       "      <td>811</td>\n",
       "      <td>641</td>\n",
       "    </tr>\n",
       "    <tr>\n",
       "      <th>10</th>\n",
       "      <td>unemployed</td>\n",
       "      <td>1</td>\n",
       "      <td>419</td>\n",
       "      <td>114</td>\n",
       "      <td>126</td>\n",
       "    </tr>\n",
       "  </tbody>\n",
       "</table>\n",
       "</div>"
      ],
      "text/plain": [
       "              job default housing  loan     y\n",
       "0          admin.       0    4777  1484  1215\n",
       "1     blue-collar       0    3017   893   452\n",
       "2    entrepreneur       0     602   159   101\n",
       "3       housemaid       0     364    97    87\n",
       "4      management       0    1221   355   286\n",
       "5         retired       0     662   166   357\n",
       "6   self-employed       0     592   154   132\n",
       "7        services       0    1501   433   258\n",
       "8         student       0     328   102   203\n",
       "9      technician       2    3033   811   641\n",
       "10     unemployed       1     419   114   126"
      ]
     },
     "execution_count": 13,
     "metadata": {},
     "output_type": "execute_result"
    }
   ],
   "source": [
    "job_df = pd.DataFrame(columns = ['job','default','housing', 'loan', 'y'])\n",
    "group_job_df = df.groupby('job')\n",
    "columns = ['default','housing', 'loan', 'y']\n",
    "\n",
    "for name, subset_df in group_job_df:\n",
    "    row = pd.DataFrame(job_df.columns)\n",
    "    row['job'] = name\n",
    "    for column in columns:\n",
    "        count = subset_df[subset_df[column] == 'yes']\n",
    "        row[column] = count.shape[0]\n",
    "    job_df = pd.concat((job_df,row))\n",
    "    \n",
    "job_df = job_df.iloc[:,:-1].drop_duplicates().reset_index().drop(columns = 'index')\n",
    "job_df"
   ]
  },
  {
   "cell_type": "code",
   "execution_count": 14,
   "id": "583cd69b-5011-4b26-835a-8a2b85967d3b",
   "metadata": {},
   "outputs": [
    {
     "data": {
      "image/png": "[encoded data removed]",
      "text/plain": [
       "<Figure size 1296x576 with 1 Axes>"
      ]
     },
     "metadata": {
      "needs_background": "light"
     },
     "output_type": "display_data"
    }
   ],
   "source": [
    "plt.rcParams['figure.figsize'] = (18,8)\n",
    "ax = job_df.plot.bar()\n",
    "ax.set_xticks(ticks = np.arange(11),labels = job_df['job'])\n",
    "plt.show()"
   ]
  },
  {
   "cell_type": "markdown",
   "id": "da651d61-d0af-4299-bbbf-224e034dfdf4",
   "metadata": {},
   "source": [
    "## 2. Thống kế số lượng các khoản nợ và tỷ lệ đăng ký theo tình trạng hôn nhân"
   ]
  },
  {
   "cell_type": "code",
   "execution_count": 15,
   "id": "80008c5a-8f8f-46ae-842a-2f00911c3ff1",
   "metadata": {},
   "outputs": [
    {
     "data": {
      "text/html": [
       "<div>\n",
       "<style scoped>\n",
       "    .dataframe tbody tr th:only-of-type {\n",
       "        vertical-align: middle;\n",
       "    }\n",
       "\n",
       "    .dataframe tbody tr th {\n",
       "        vertical-align: top;\n",
       "    }\n",
       "\n",
       "    .dataframe thead th {\n",
       "        text-align: right;\n",
       "    }\n",
       "</style>\n",
       "<table border=\"1\" class=\"dataframe\">\n",
       "  <thead>\n",
       "    <tr style=\"text-align: right;\">\n",
       "      <th></th>\n",
       "      <th>marital</th>\n",
       "      <th>default</th>\n",
       "      <th>housing</th>\n",
       "      <th>loan</th>\n",
       "      <th>y</th>\n",
       "    </tr>\n",
       "  </thead>\n",
       "  <tbody>\n",
       "    <tr>\n",
       "      <th>0</th>\n",
       "      <td>divorced</td>\n",
       "      <td>0</td>\n",
       "      <td>1909</td>\n",
       "      <td>538</td>\n",
       "      <td>410</td>\n",
       "    </tr>\n",
       "    <tr>\n",
       "      <th>1</th>\n",
       "      <td>married</td>\n",
       "      <td>3</td>\n",
       "      <td>9423</td>\n",
       "      <td>2746</td>\n",
       "      <td>2055</td>\n",
       "    </tr>\n",
       "    <tr>\n",
       "      <th>2</th>\n",
       "      <td>single</td>\n",
       "      <td>0</td>\n",
       "      <td>5184</td>\n",
       "      <td>1484</td>\n",
       "      <td>1393</td>\n",
       "    </tr>\n",
       "  </tbody>\n",
       "</table>\n",
       "</div>"
      ],
      "text/plain": [
       "    marital default housing  loan     y\n",
       "0  divorced       0    1909   538   410\n",
       "1   married       3    9423  2746  2055\n",
       "2    single       0    5184  1484  1393"
      ]
     },
     "execution_count": 15,
     "metadata": {},
     "output_type": "execute_result"
    }
   ],
   "source": [
    "marital_df = pd.DataFrame(columns = ['marital','default','housing', 'loan', 'y'])\n",
    "group_marital_df = df.groupby('marital')\n",
    "columns = ['default','housing', 'loan', 'y']\n",
    "\n",
    "for name, subset_df in group_marital_df:\n",
    "    row = pd.DataFrame(marital_df.columns)\n",
    "    row['marital'] = name\n",
    "    for column in columns:\n",
    "        count = subset_df[subset_df[column] == 'yes']\n",
    "        row[column] = count.shape[0]\n",
    "    marital_df = pd.concat((marital_df,row))\n",
    "    \n",
    "marital_df = marital_df.iloc[:,:-1].drop_duplicates().reset_index().drop(columns = 'index')\n",
    "marital_df"
   ]
  },
  {
   "cell_type": "code",
   "execution_count": 16,
   "id": "ab49d939-85dd-4af4-9283-2129735d9946",
   "metadata": {},
   "outputs": [
    {
     "data": {
      "image/png": "[encoded data removed]",
      "text/plain": [
       "<Figure size 1080x432 with 1 Axes>"
      ]
     },
     "metadata": {
      "needs_background": "light"
     },
     "output_type": "display_data"
    }
   ],
   "source": [
    "plt.rcParams['figure.figsize'] = (15,6)\n",
    "ax = marital_df.plot.bar()\n",
    "ax.set_xticks(ticks = np.arange(3),labels = marital_df['marital'])\n",
    "plt.show()"
   ]
  },
  {
   "cell_type": "markdown",
   "id": "e5035a03-e024-4613-9392-0137d10bda52",
   "metadata": {},
   "source": [
    "## 3. Thống kế số lượng các khoản nợ và tỷ lệ đăng ký theo trình độ học vấn"
   ]
  },
  {
   "cell_type": "code",
   "execution_count": 17,
   "id": "6aeced56-09cf-4751-9321-f4f6ac84b22a",
   "metadata": {},
   "outputs": [
    {
     "data": {
      "text/html": [
       "<div>\n",
       "<style scoped>\n",
       "    .dataframe tbody tr th:only-of-type {\n",
       "        vertical-align: middle;\n",
       "    }\n",
       "\n",
       "    .dataframe tbody tr th {\n",
       "        vertical-align: top;\n",
       "    }\n",
       "\n",
       "    .dataframe thead th {\n",
       "        text-align: right;\n",
       "    }\n",
       "</style>\n",
       "<table border=\"1\" class=\"dataframe\">\n",
       "  <thead>\n",
       "    <tr style=\"text-align: right;\">\n",
       "      <th></th>\n",
       "      <th>education</th>\n",
       "      <th>default</th>\n",
       "      <th>housing</th>\n",
       "      <th>loan</th>\n",
       "      <th>y</th>\n",
       "    </tr>\n",
       "  </thead>\n",
       "  <tbody>\n",
       "    <tr>\n",
       "      <th>0</th>\n",
       "      <td>basic.4y</td>\n",
       "      <td>0</td>\n",
       "      <td>1228</td>\n",
       "      <td>355</td>\n",
       "      <td>326</td>\n",
       "    </tr>\n",
       "    <tr>\n",
       "      <th>1</th>\n",
       "      <td>basic.6y</td>\n",
       "      <td>0</td>\n",
       "      <td>738</td>\n",
       "      <td>210</td>\n",
       "      <td>136</td>\n",
       "    </tr>\n",
       "    <tr>\n",
       "      <th>2</th>\n",
       "      <td>basic.9y</td>\n",
       "      <td>0</td>\n",
       "      <td>2330</td>\n",
       "      <td>659</td>\n",
       "      <td>380</td>\n",
       "    </tr>\n",
       "    <tr>\n",
       "      <th>3</th>\n",
       "      <td>high.school</td>\n",
       "      <td>1</td>\n",
       "      <td>4074</td>\n",
       "      <td>1200</td>\n",
       "      <td>934</td>\n",
       "    </tr>\n",
       "    <tr>\n",
       "      <th>4</th>\n",
       "      <td>illiterate</td>\n",
       "      <td>0</td>\n",
       "      <td>6</td>\n",
       "      <td>0</td>\n",
       "      <td>3</td>\n",
       "    </tr>\n",
       "    <tr>\n",
       "      <th>5</th>\n",
       "      <td>professional.course</td>\n",
       "      <td>2</td>\n",
       "      <td>2407</td>\n",
       "      <td>665</td>\n",
       "      <td>538</td>\n",
       "    </tr>\n",
       "    <tr>\n",
       "      <th>6</th>\n",
       "      <td>university.degree</td>\n",
       "      <td>0</td>\n",
       "      <td>5733</td>\n",
       "      <td>1679</td>\n",
       "      <td>1541</td>\n",
       "    </tr>\n",
       "  </tbody>\n",
       "</table>\n",
       "</div>"
      ],
      "text/plain": [
       "             education default housing  loan     y\n",
       "0             basic.4y       0    1228   355   326\n",
       "1             basic.6y       0     738   210   136\n",
       "2             basic.9y       0    2330   659   380\n",
       "3          high.school       1    4074  1200   934\n",
       "4           illiterate       0       6     0     3\n",
       "5  professional.course       2    2407   665   538\n",
       "6    university.degree       0    5733  1679  1541"
      ]
     },
     "execution_count": 17,
     "metadata": {},
     "output_type": "execute_result"
    }
   ],
   "source": [
    "education_df = pd.DataFrame(columns = ['education','default','housing', 'loan', 'y'])\n",
    "group_education_df = df.groupby('education')\n",
    "columns = ['default','housing', 'loan', 'y']\n",
    "\n",
    "for name, subset_df in group_education_df:\n",
    "    row = pd.DataFrame(education_df.columns)\n",
    "    row['education'] = name\n",
    "    for column in columns:\n",
    "        count = subset_df[subset_df[column] == 'yes']\n",
    "        row[column] = count.shape[0]\n",
    "    education_df = pd.concat((education_df,row))\n",
    "    \n",
    "education_df = education_df.iloc[:,:-1].drop_duplicates().reset_index().drop(columns = 'index')\n",
    "education_df"
   ]
  },
  {
   "cell_type": "code",
   "execution_count": 18,
   "id": "d54911f2-b4d5-4d0d-bcc8-98f08bbc4d7a",
   "metadata": {},
   "outputs": [
    {
     "data": {
      "image/png": "[encoded data removed]",
      "text/plain": [
       "<Figure size 1296x432 with 1 Axes>"
      ]
     },
     "metadata": {
      "needs_background": "light"
     },
     "output_type": "display_data"
    }
   ],
   "source": [
    "plt.rcParams['figure.figsize'] = (18,6)\n",
    "ax = education_df.plot.bar()\n",
    "ax.set_xticks(ticks = np.arange(7),labels = education_df['education'])\n",
    "plt.show()"
   ]
  },
  {
   "cell_type": "markdown",
   "id": "62c4879e-261e-476e-bd77-cee58d2bbb08",
   "metadata": {},
   "source": [
    "## 4. Xu hướng thay đổi các thuộc tính `social và economic context`"
   ]
  },
  {
   "cell_type": "code",
   "execution_count": 19,
   "id": "f3b070fb-2379-4c62-b309-d5341067d52d",
   "metadata": {},
   "outputs": [],
   "source": [
    "social_economic_df = df[['emp.var.rate','cons.conf.idx', 'cons.price.idx', 'euribor3m', 'nr.employed']]"
   ]
  },
  {
   "cell_type": "code",
   "execution_count": 20,
   "id": "79c03a02-5456-465f-9f52-2b0251bc48f9",
   "metadata": {},
   "outputs": [
    {
     "data": {
      "image/png": "[encoded data removed]",
      "text/plain": [
       "<Figure size 1800x864 with 6 Axes>"
      ]
     },
     "metadata": {
      "needs_background": "light"
     },
     "output_type": "display_data"
    }
   ],
   "source": [
    "fig, axs = plt.subplots(2,3, figsize = (25,12))\n",
    "for idx in range(social_economic_df.shape[1]):\n",
    "    r,c = idx // 3, idx % 3\n",
    "    sns.lineplot(data = social_economic_df.iloc[:,idx].unique(), ax = axs[r,c])\n",
    "    axs[r,c].set_title(f'{social_economic_df.columns[idx]}', fontsize = 16, color = 'red')\n",
    "    axs[r,c].xaxis.set_visible(False)\n",
    "\n",
    "axs[1,2].set_visible(False)"
   ]
  },
  {
   "cell_type": "markdown",
   "id": "cd3aed6c-554f-4a4d-9f60-e67bfb939bca",
   "metadata": {},
   "source": [
    "# 3. Chuẩn hóa và mã hóa dữ liệu"
   ]
  },
  {
   "cell_type": "code",
   "execution_count": 21,
   "id": "e61cb73b-17af-4c6d-a79b-ccc935cb9e13",
   "metadata": {},
   "outputs": [],
   "source": [
    "scale_df = pd.DataFrame()"
   ]
  },
  {
   "cell_type": "markdown",
   "id": "f7bda13a-8078-4c3d-b321-b538518b0ea3",
   "metadata": {},
   "source": [
    "## 1. Chuẩn hóa dữ liệu"
   ]
  },
  {
   "cell_type": "code",
   "execution_count": 22,
   "id": "cffe64b9-8038-4ac8-9bbe-7e0ba0e9f43e",
   "metadata": {},
   "outputs": [],
   "source": [
    "from sklearn.preprocessing import StandardScaler"
   ]
  },
  {
   "cell_type": "code",
   "execution_count": 23,
   "id": "1227675f-c12d-449d-87ee-8b6499023d11",
   "metadata": {},
   "outputs": [
    {
     "data": {
      "text/html": [
       "<div>\n",
       "<style scoped>\n",
       "    .dataframe tbody tr th:only-of-type {\n",
       "        vertical-align: middle;\n",
       "    }\n",
       "\n",
       "    .dataframe tbody tr th {\n",
       "        vertical-align: top;\n",
       "    }\n",
       "\n",
       "    .dataframe thead th {\n",
       "        text-align: right;\n",
       "    }\n",
       "</style>\n",
       "<table border=\"1\" class=\"dataframe\">\n",
       "  <thead>\n",
       "    <tr style=\"text-align: right;\">\n",
       "      <th></th>\n",
       "      <th>age</th>\n",
       "      <th>duration</th>\n",
       "      <th>campaign</th>\n",
       "      <th>pdays</th>\n",
       "      <th>previous</th>\n",
       "      <th>emp.var.rate</th>\n",
       "      <th>cons.price.idx</th>\n",
       "      <th>cons.conf.idx</th>\n",
       "      <th>euribor3m</th>\n",
       "      <th>nr.employed</th>\n",
       "    </tr>\n",
       "  </thead>\n",
       "  <tbody>\n",
       "    <tr>\n",
       "      <th>0</th>\n",
       "      <td>1.642408</td>\n",
       "      <td>0.005681</td>\n",
       "      <td>-0.559363</td>\n",
       "      <td>0.211923</td>\n",
       "      <td>-0.371685</td>\n",
       "      <td>0.727467</td>\n",
       "      <td>0.803995</td>\n",
       "      <td>0.877601</td>\n",
       "      <td>0.786088</td>\n",
       "      <td>0.401639</td>\n",
       "    </tr>\n",
       "    <tr>\n",
       "      <th>1</th>\n",
       "      <td>-0.196436</td>\n",
       "      <td>-0.128039</td>\n",
       "      <td>-0.559363</td>\n",
       "      <td>0.211923</td>\n",
       "      <td>-0.371685</td>\n",
       "      <td>0.727467</td>\n",
       "      <td>0.803995</td>\n",
       "      <td>0.877601</td>\n",
       "      <td>0.786088</td>\n",
       "      <td>0.401639</td>\n",
       "    </tr>\n",
       "    <tr>\n",
       "      <th>2</th>\n",
       "      <td>0.093908</td>\n",
       "      <td>-0.414580</td>\n",
       "      <td>-0.559363</td>\n",
       "      <td>0.211923</td>\n",
       "      <td>-0.371685</td>\n",
       "      <td>0.727467</td>\n",
       "      <td>0.803995</td>\n",
       "      <td>0.877601</td>\n",
       "      <td>0.786088</td>\n",
       "      <td>0.401639</td>\n",
       "    </tr>\n",
       "    <tr>\n",
       "      <th>3</th>\n",
       "      <td>1.642408</td>\n",
       "      <td>0.181426</td>\n",
       "      <td>-0.559363</td>\n",
       "      <td>0.211923</td>\n",
       "      <td>-0.371685</td>\n",
       "      <td>0.727467</td>\n",
       "      <td>0.803995</td>\n",
       "      <td>0.877601</td>\n",
       "      <td>0.786088</td>\n",
       "      <td>0.401639</td>\n",
       "    </tr>\n",
       "    <tr>\n",
       "      <th>4</th>\n",
       "      <td>1.932752</td>\n",
       "      <td>-0.460427</td>\n",
       "      <td>-0.559363</td>\n",
       "      <td>0.211923</td>\n",
       "      <td>-0.371685</td>\n",
       "      <td>0.727467</td>\n",
       "      <td>0.803995</td>\n",
       "      <td>0.877601</td>\n",
       "      <td>0.786088</td>\n",
       "      <td>0.401639</td>\n",
       "    </tr>\n",
       "  </tbody>\n",
       "</table>\n",
       "</div>"
      ],
      "text/plain": [
       "        age  duration  campaign     pdays  previous  emp.var.rate  \\\n",
       "0  1.642408  0.005681 -0.559363  0.211923 -0.371685      0.727467   \n",
       "1 -0.196436 -0.128039 -0.559363  0.211923 -0.371685      0.727467   \n",
       "2  0.093908 -0.414580 -0.559363  0.211923 -0.371685      0.727467   \n",
       "3  1.642408  0.181426 -0.559363  0.211923 -0.371685      0.727467   \n",
       "4  1.932752 -0.460427 -0.559363  0.211923 -0.371685      0.727467   \n",
       "\n",
       "   cons.price.idx  cons.conf.idx  euribor3m  nr.employed  \n",
       "0        0.803995       0.877601   0.786088     0.401639  \n",
       "1        0.803995       0.877601   0.786088     0.401639  \n",
       "2        0.803995       0.877601   0.786088     0.401639  \n",
       "3        0.803995       0.877601   0.786088     0.401639  \n",
       "4        0.803995       0.877601   0.786088     0.401639  "
      ]
     },
     "execution_count": 23,
     "metadata": {},
     "output_type": "execute_result"
    }
   ],
   "source": [
    "scale = StandardScaler()\n",
    "scale_df[num_df.columns] = scale.fit_transform(df[num_df.columns])\n",
    "scale_df[num_df.columns].head()"
   ]
  },
  {
   "cell_type": "markdown",
   "id": "9e209458-0e11-458c-b9b9-cf6409294bfc",
   "metadata": {},
   "source": [
    "## 2. Mã hóa dữ liệu"
   ]
  },
  {
   "cell_type": "code",
   "execution_count": 24,
   "id": "19ca8e60-7c5f-4055-a501-0be476410e85",
   "metadata": {},
   "outputs": [
    {
     "data": {
      "text/html": [
       "<div>\n",
       "<style scoped>\n",
       "    .dataframe tbody tr th:only-of-type {\n",
       "        vertical-align: middle;\n",
       "    }\n",
       "\n",
       "    .dataframe tbody tr th {\n",
       "        vertical-align: top;\n",
       "    }\n",
       "\n",
       "    .dataframe thead th {\n",
       "        text-align: right;\n",
       "    }\n",
       "</style>\n",
       "<table border=\"1\" class=\"dataframe\">\n",
       "  <thead>\n",
       "    <tr style=\"text-align: right;\">\n",
       "      <th></th>\n",
       "      <th>age</th>\n",
       "      <th>duration</th>\n",
       "      <th>campaign</th>\n",
       "      <th>pdays</th>\n",
       "      <th>previous</th>\n",
       "      <th>emp.var.rate</th>\n",
       "      <th>cons.price.idx</th>\n",
       "      <th>cons.conf.idx</th>\n",
       "      <th>euribor3m</th>\n",
       "      <th>nr.employed</th>\n",
       "      <th>...</th>\n",
       "      <th>month_oct</th>\n",
       "      <th>month_sep</th>\n",
       "      <th>day_of_week_fri</th>\n",
       "      <th>day_of_week_mon</th>\n",
       "      <th>day_of_week_thu</th>\n",
       "      <th>day_of_week_tue</th>\n",
       "      <th>day_of_week_wed</th>\n",
       "      <th>poutcome_failure</th>\n",
       "      <th>poutcome_nonexistent</th>\n",
       "      <th>poutcome_success</th>\n",
       "    </tr>\n",
       "  </thead>\n",
       "  <tbody>\n",
       "    <tr>\n",
       "      <th>0</th>\n",
       "      <td>1.642408</td>\n",
       "      <td>0.005681</td>\n",
       "      <td>-0.559363</td>\n",
       "      <td>0.211923</td>\n",
       "      <td>-0.371685</td>\n",
       "      <td>0.727467</td>\n",
       "      <td>0.803995</td>\n",
       "      <td>0.877601</td>\n",
       "      <td>0.786088</td>\n",
       "      <td>0.401639</td>\n",
       "      <td>...</td>\n",
       "      <td>0</td>\n",
       "      <td>0</td>\n",
       "      <td>0</td>\n",
       "      <td>1</td>\n",
       "      <td>0</td>\n",
       "      <td>0</td>\n",
       "      <td>0</td>\n",
       "      <td>0</td>\n",
       "      <td>1</td>\n",
       "      <td>0</td>\n",
       "    </tr>\n",
       "    <tr>\n",
       "      <th>1</th>\n",
       "      <td>-0.196436</td>\n",
       "      <td>-0.128039</td>\n",
       "      <td>-0.559363</td>\n",
       "      <td>0.211923</td>\n",
       "      <td>-0.371685</td>\n",
       "      <td>0.727467</td>\n",
       "      <td>0.803995</td>\n",
       "      <td>0.877601</td>\n",
       "      <td>0.786088</td>\n",
       "      <td>0.401639</td>\n",
       "      <td>...</td>\n",
       "      <td>0</td>\n",
       "      <td>0</td>\n",
       "      <td>0</td>\n",
       "      <td>1</td>\n",
       "      <td>0</td>\n",
       "      <td>0</td>\n",
       "      <td>0</td>\n",
       "      <td>0</td>\n",
       "      <td>1</td>\n",
       "      <td>0</td>\n",
       "    </tr>\n",
       "    <tr>\n",
       "      <th>2</th>\n",
       "      <td>0.093908</td>\n",
       "      <td>-0.414580</td>\n",
       "      <td>-0.559363</td>\n",
       "      <td>0.211923</td>\n",
       "      <td>-0.371685</td>\n",
       "      <td>0.727467</td>\n",
       "      <td>0.803995</td>\n",
       "      <td>0.877601</td>\n",
       "      <td>0.786088</td>\n",
       "      <td>0.401639</td>\n",
       "      <td>...</td>\n",
       "      <td>0</td>\n",
       "      <td>0</td>\n",
       "      <td>0</td>\n",
       "      <td>1</td>\n",
       "      <td>0</td>\n",
       "      <td>0</td>\n",
       "      <td>0</td>\n",
       "      <td>0</td>\n",
       "      <td>1</td>\n",
       "      <td>0</td>\n",
       "    </tr>\n",
       "    <tr>\n",
       "      <th>3</th>\n",
       "      <td>1.642408</td>\n",
       "      <td>0.181426</td>\n",
       "      <td>-0.559363</td>\n",
       "      <td>0.211923</td>\n",
       "      <td>-0.371685</td>\n",
       "      <td>0.727467</td>\n",
       "      <td>0.803995</td>\n",
       "      <td>0.877601</td>\n",
       "      <td>0.786088</td>\n",
       "      <td>0.401639</td>\n",
       "      <td>...</td>\n",
       "      <td>0</td>\n",
       "      <td>0</td>\n",
       "      <td>0</td>\n",
       "      <td>1</td>\n",
       "      <td>0</td>\n",
       "      <td>0</td>\n",
       "      <td>0</td>\n",
       "      <td>0</td>\n",
       "      <td>1</td>\n",
       "      <td>0</td>\n",
       "    </tr>\n",
       "    <tr>\n",
       "      <th>4</th>\n",
       "      <td>1.932752</td>\n",
       "      <td>-0.460427</td>\n",
       "      <td>-0.559363</td>\n",
       "      <td>0.211923</td>\n",
       "      <td>-0.371685</td>\n",
       "      <td>0.727467</td>\n",
       "      <td>0.803995</td>\n",
       "      <td>0.877601</td>\n",
       "      <td>0.786088</td>\n",
       "      <td>0.401639</td>\n",
       "      <td>...</td>\n",
       "      <td>0</td>\n",
       "      <td>0</td>\n",
       "      <td>0</td>\n",
       "      <td>1</td>\n",
       "      <td>0</td>\n",
       "      <td>0</td>\n",
       "      <td>0</td>\n",
       "      <td>0</td>\n",
       "      <td>1</td>\n",
       "      <td>0</td>\n",
       "    </tr>\n",
       "  </tbody>\n",
       "</table>\n",
       "<p>5 rows × 57 columns</p>\n",
       "</div>"
      ],
      "text/plain": [
       "        age  duration  campaign     pdays  previous  emp.var.rate  \\\n",
       "0  1.642408  0.005681 -0.559363  0.211923 -0.371685      0.727467   \n",
       "1 -0.196436 -0.128039 -0.559363  0.211923 -0.371685      0.727467   \n",
       "2  0.093908 -0.414580 -0.559363  0.211923 -0.371685      0.727467   \n",
       "3  1.642408  0.181426 -0.559363  0.211923 -0.371685      0.727467   \n",
       "4  1.932752 -0.460427 -0.559363  0.211923 -0.371685      0.727467   \n",
       "\n",
       "   cons.price.idx  cons.conf.idx  euribor3m  nr.employed  ...  month_oct  \\\n",
       "0        0.803995       0.877601   0.786088     0.401639  ...          0   \n",
       "1        0.803995       0.877601   0.786088     0.401639  ...          0   \n",
       "2        0.803995       0.877601   0.786088     0.401639  ...          0   \n",
       "3        0.803995       0.877601   0.786088     0.401639  ...          0   \n",
       "4        0.803995       0.877601   0.786088     0.401639  ...          0   \n",
       "\n",
       "   month_sep  day_of_week_fri  day_of_week_mon  day_of_week_thu  \\\n",
       "0          0                0                1                0   \n",
       "1          0                0                1                0   \n",
       "2          0                0                1                0   \n",
       "3          0                0                1                0   \n",
       "4          0                0                1                0   \n",
       "\n",
       "   day_of_week_tue  day_of_week_wed  poutcome_failure  poutcome_nonexistent  \\\n",
       "0                0                0                 0                     1   \n",
       "1                0                0                 0                     1   \n",
       "2                0                0                 0                     1   \n",
       "3                0                0                 0                     1   \n",
       "4                0                0                 0                     1   \n",
       "\n",
       "   poutcome_success  \n",
       "0                 0  \n",
       "1                 0  \n",
       "2                 0  \n",
       "3                 0  \n",
       "4                 0  \n",
       "\n",
       "[5 rows x 57 columns]"
      ]
     },
     "execution_count": 24,
     "metadata": {},
     "output_type": "execute_result"
    }
   ],
   "source": [
    "scale_df = pd.concat((scale_df,pd.get_dummies(df[cate_df.drop(columns = 'y').columns])), axis = 1)\n",
    "scale_df.head()                    "
   ]
  },
  {
   "cell_type": "code",
   "execution_count": 25,
   "id": "ecbdbbff-f6c4-4a38-9f0e-87406912d803",
   "metadata": {},
   "outputs": [],
   "source": [
    "scale_df['y'] = df['y'].replace(['yes', 'no'], [1,0])"
   ]
  },
  {
   "cell_type": "markdown",
   "id": "f223366b-6f9f-41d0-bc60-26a0f4160404",
   "metadata": {},
   "source": [
    "# 4. Resampling dữ liệu"
   ]
  },
  {
   "cell_type": "code",
   "execution_count": 26,
   "id": "f2b410a9-5686-4103-8114-f9634ad6c9f3",
   "metadata": {},
   "outputs": [
    {
     "data": {
      "image/png": "[encoded data removed]",
      "text/plain": [
       "<Figure size 1080x576 with 1 Axes>"
      ]
     },
     "metadata": {},
     "output_type": "display_data"
    }
   ],
   "source": [
    "plt.rcParams['figure.figsize'] = 15, 8\n",
    "ax = df['y'].value_counts().plot.pie(labels = ['no', 'yes'], autopct='%.2f%%')\n",
    "plt.title('Tỷ lệ khách hàng tham gia ngân hàng', fontsize = 18, color = 'red')\n",
    "ax.yaxis.set_visible(False)\n",
    "plt.show()"
   ]
  },
  {
   "cell_type": "markdown",
   "id": "0b01e106-6a75-4fdb-bd6c-8fc845d9ab5c",
   "metadata": {},
   "source": [
    "- <font size = '4'>Tỷ lệ khách hàng mất cân bằng nên sẽ ảnh hưởng tới mô hình Classification. Một trong 2 cách thường dùng:</font>\n",
    "    - <font size = '4'>Sử dụng Oversampling ngẫu nhiên tăng số lượng label `yes`</font>\n",
    "    - <font size = '4'>Sử dụng OverSampling (SMOTE) cho label `yes`</font>"
   ]
  },
  {
   "cell_type": "code",
   "execution_count": 27,
   "id": "9e279795-eaef-4330-8c03-b627e8a3d785",
   "metadata": {},
   "outputs": [],
   "source": [
    "from sklearn.utils import resample\n",
    "from imblearn.over_sampling import SMOTE"
   ]
  },
  {
   "cell_type": "code",
   "execution_count": 28,
   "id": "355d40f0-79a8-4a37-94a4-a9eea1e28eb5",
   "metadata": {},
   "outputs": [],
   "source": [
    "yes_df = scale_df[scale_df['y'] == 1]\n",
    "no_df = scale_df[scale_df['y'] == 0]"
   ]
  },
  {
   "cell_type": "markdown",
   "id": "15cdfc41-5498-4117-a5b6-032b59199ad4",
   "metadata": {},
   "source": [
    "## 1. Random OverSampling"
   ]
  },
  {
   "cell_type": "code",
   "execution_count": 29,
   "id": "aa170583-4fd4-4733-89d6-ad23a858b703",
   "metadata": {},
   "outputs": [
    {
     "data": {
      "text/plain": [
       "1    26620\n",
       "0    26620\n",
       "Name: y, dtype: int64"
      ]
     },
     "execution_count": 29,
     "metadata": {},
     "output_type": "execute_result"
    }
   ],
   "source": [
    "up_yes_df = resample(yes_df, n_samples=no_df.shape[0], random_state=42)\n",
    "up_scale_df = pd.concat((up_yes_df, no_df), axis = 0)\n",
    "up_scale_df['y'].value_counts()"
   ]
  },
  {
   "cell_type": "code",
   "execution_count": 30,
   "id": "b6a40819-4d65-49b8-98db-617b5db3977d",
   "metadata": {},
   "outputs": [
    {
     "data": {
      "text/html": [
       "<div>\n",
       "<style scoped>\n",
       "    .dataframe tbody tr th:only-of-type {\n",
       "        vertical-align: middle;\n",
       "    }\n",
       "\n",
       "    .dataframe tbody tr th {\n",
       "        vertical-align: top;\n",
       "    }\n",
       "\n",
       "    .dataframe thead th {\n",
       "        text-align: right;\n",
       "    }\n",
       "</style>\n",
       "<table border=\"1\" class=\"dataframe\">\n",
       "  <thead>\n",
       "    <tr style=\"text-align: right;\">\n",
       "      <th></th>\n",
       "      <th>age</th>\n",
       "      <th>duration</th>\n",
       "      <th>campaign</th>\n",
       "      <th>pdays</th>\n",
       "      <th>previous</th>\n",
       "      <th>emp.var.rate</th>\n",
       "      <th>cons.price.idx</th>\n",
       "      <th>cons.conf.idx</th>\n",
       "      <th>euribor3m</th>\n",
       "      <th>nr.employed</th>\n",
       "      <th>...</th>\n",
       "      <th>month_sep</th>\n",
       "      <th>day_of_week_fri</th>\n",
       "      <th>day_of_week_mon</th>\n",
       "      <th>day_of_week_thu</th>\n",
       "      <th>day_of_week_tue</th>\n",
       "      <th>day_of_week_wed</th>\n",
       "      <th>poutcome_failure</th>\n",
       "      <th>poutcome_nonexistent</th>\n",
       "      <th>poutcome_success</th>\n",
       "      <th>y</th>\n",
       "    </tr>\n",
       "  </thead>\n",
       "  <tbody>\n",
       "    <tr>\n",
       "      <th>29125</th>\n",
       "      <td>-0.002874</td>\n",
       "      <td>0.261658</td>\n",
       "      <td>-0.191777</td>\n",
       "      <td>-4.718525</td>\n",
       "      <td>5.366061</td>\n",
       "      <td>-1.073462</td>\n",
       "      <td>0.602409</td>\n",
       "      <td>0.125833</td>\n",
       "      <td>-1.562570</td>\n",
       "      <td>-2.023949</td>\n",
       "      <td>...</td>\n",
       "      <td>0</td>\n",
       "      <td>0</td>\n",
       "      <td>0</td>\n",
       "      <td>1</td>\n",
       "      <td>0</td>\n",
       "      <td>0</td>\n",
       "      <td>0</td>\n",
       "      <td>0</td>\n",
       "      <td>1</td>\n",
       "      <td>1</td>\n",
       "    </tr>\n",
       "    <tr>\n",
       "      <th>29760</th>\n",
       "      <td>-0.486780</td>\n",
       "      <td>-0.036345</td>\n",
       "      <td>-0.559363</td>\n",
       "      <td>-4.698665</td>\n",
       "      <td>3.453479</td>\n",
       "      <td>-1.011361</td>\n",
       "      <td>0.860371</td>\n",
       "      <td>0.480835</td>\n",
       "      <td>-1.440466</td>\n",
       "      <td>-2.251472</td>\n",
       "      <td>...</td>\n",
       "      <td>0</td>\n",
       "      <td>0</td>\n",
       "      <td>0</td>\n",
       "      <td>0</td>\n",
       "      <td>0</td>\n",
       "      <td>1</td>\n",
       "      <td>1</td>\n",
       "      <td>0</td>\n",
       "      <td>0</td>\n",
       "      <td>1</td>\n",
       "    </tr>\n",
       "    <tr>\n",
       "      <th>17376</th>\n",
       "      <td>-0.389999</td>\n",
       "      <td>2.137550</td>\n",
       "      <td>0.175809</td>\n",
       "      <td>0.211923</td>\n",
       "      <td>-0.371685</td>\n",
       "      <td>-0.017745</td>\n",
       "      <td>-0.552442</td>\n",
       "      <td>-0.291816</td>\n",
       "      <td>0.371387</td>\n",
       "      <td>0.465506</td>\n",
       "      <td>...</td>\n",
       "      <td>0</td>\n",
       "      <td>0</td>\n",
       "      <td>0</td>\n",
       "      <td>0</td>\n",
       "      <td>0</td>\n",
       "      <td>1</td>\n",
       "      <td>0</td>\n",
       "      <td>1</td>\n",
       "      <td>0</td>\n",
       "      <td>1</td>\n",
       "    </tr>\n",
       "    <tr>\n",
       "      <th>21088</th>\n",
       "      <td>1.448846</td>\n",
       "      <td>-0.093654</td>\n",
       "      <td>-0.191777</td>\n",
       "      <td>0.211923</td>\n",
       "      <td>-0.371685</td>\n",
       "      <td>-1.073462</td>\n",
       "      <td>-0.765987</td>\n",
       "      <td>-1.356820</td>\n",
       "      <td>-1.156309</td>\n",
       "      <td>-0.821134</td>\n",
       "      <td>...</td>\n",
       "      <td>0</td>\n",
       "      <td>0</td>\n",
       "      <td>0</td>\n",
       "      <td>0</td>\n",
       "      <td>1</td>\n",
       "      <td>0</td>\n",
       "      <td>0</td>\n",
       "      <td>1</td>\n",
       "      <td>0</td>\n",
       "      <td>1</td>\n",
       "    </tr>\n",
       "    <tr>\n",
       "      <th>19813</th>\n",
       "      <td>-1.357812</td>\n",
       "      <td>-0.555941</td>\n",
       "      <td>-0.559363</td>\n",
       "      <td>0.211923</td>\n",
       "      <td>-0.371685</td>\n",
       "      <td>-1.073462</td>\n",
       "      <td>-0.765987</td>\n",
       "      <td>-1.356820</td>\n",
       "      <td>-1.133802</td>\n",
       "      <td>-0.821134</td>\n",
       "      <td>...</td>\n",
       "      <td>0</td>\n",
       "      <td>0</td>\n",
       "      <td>0</td>\n",
       "      <td>0</td>\n",
       "      <td>0</td>\n",
       "      <td>1</td>\n",
       "      <td>0</td>\n",
       "      <td>1</td>\n",
       "      <td>0</td>\n",
       "      <td>1</td>\n",
       "    </tr>\n",
       "  </tbody>\n",
       "</table>\n",
       "<p>5 rows × 58 columns</p>\n",
       "</div>"
      ],
      "text/plain": [
       "            age  duration  campaign     pdays  previous  emp.var.rate  \\\n",
       "29125 -0.002874  0.261658 -0.191777 -4.718525  5.366061     -1.073462   \n",
       "29760 -0.486780 -0.036345 -0.559363 -4.698665  3.453479     -1.011361   \n",
       "17376 -0.389999  2.137550  0.175809  0.211923 -0.371685     -0.017745   \n",
       "21088  1.448846 -0.093654 -0.191777  0.211923 -0.371685     -1.073462   \n",
       "19813 -1.357812 -0.555941 -0.559363  0.211923 -0.371685     -1.073462   \n",
       "\n",
       "       cons.price.idx  cons.conf.idx  euribor3m  nr.employed  ...  month_sep  \\\n",
       "29125        0.602409       0.125833  -1.562570    -2.023949  ...          0   \n",
       "29760        0.860371       0.480835  -1.440466    -2.251472  ...          0   \n",
       "17376       -0.552442      -0.291816   0.371387     0.465506  ...          0   \n",
       "21088       -0.765987      -1.356820  -1.156309    -0.821134  ...          0   \n",
       "19813       -0.765987      -1.356820  -1.133802    -0.821134  ...          0   \n",
       "\n",
       "       day_of_week_fri  day_of_week_mon  day_of_week_thu  day_of_week_tue  \\\n",
       "29125                0                0                1                0   \n",
       "29760                0                0                0                0   \n",
       "17376                0                0                0                0   \n",
       "21088                0                0                0                1   \n",
       "19813                0                0                0                0   \n",
       "\n",
       "       day_of_week_wed  poutcome_failure  poutcome_nonexistent  \\\n",
       "29125                0                 0                     0   \n",
       "29760                1                 1                     0   \n",
       "17376                1                 0                     1   \n",
       "21088                0                 0                     1   \n",
       "19813                1                 0                     1   \n",
       "\n",
       "       poutcome_success  y  \n",
       "29125                 1  1  \n",
       "29760                 0  1  \n",
       "17376                 0  1  \n",
       "21088                 0  1  \n",
       "19813                 0  1  \n",
       "\n",
       "[5 rows x 58 columns]"
      ]
     },
     "execution_count": 30,
     "metadata": {},
     "output_type": "execute_result"
    }
   ],
   "source": [
    "up_scale_df.head()"
   ]
  },
  {
   "cell_type": "markdown",
   "id": "f2fdf47c-9cf7-4821-8928-2a77e1fb484f",
   "metadata": {},
   "source": [
    "## 2. OverSampling với SMOTE"
   ]
  },
  {
   "cell_type": "code",
   "execution_count": 31,
   "id": "aa5399d1-bc75-42b9-a774-8a5c8d901ead",
   "metadata": {},
   "outputs": [],
   "source": [
    "X = scale_df.drop(columns = 'y')\n",
    "y = scale_df['y']"
   ]
  },
  {
   "cell_type": "code",
   "execution_count": 32,
   "id": "5ea3041e-b737-472e-984a-566d13d1b2e4",
   "metadata": {},
   "outputs": [
    {
     "data": {
      "text/plain": [
       "0    26620\n",
       "1    26620\n",
       "Name: y, dtype: int64"
      ]
     },
     "execution_count": 32,
     "metadata": {},
     "output_type": "execute_result"
    }
   ],
   "source": [
    "smote = SMOTE(random_state=42)\n",
    "X_smote, y_smote = smote.fit_resample(X,y)\n",
    "y_smote.value_counts()"
   ]
  },
  {
   "cell_type": "code",
   "execution_count": 33,
   "id": "08f5ff1a-f5e4-40da-872b-e3a0e4cfb6b4",
   "metadata": {},
   "outputs": [
    {
     "data": {
      "text/html": [
       "<div>\n",
       "<style scoped>\n",
       "    .dataframe tbody tr th:only-of-type {\n",
       "        vertical-align: middle;\n",
       "    }\n",
       "\n",
       "    .dataframe tbody tr th {\n",
       "        vertical-align: top;\n",
       "    }\n",
       "\n",
       "    .dataframe thead th {\n",
       "        text-align: right;\n",
       "    }\n",
       "</style>\n",
       "<table border=\"1\" class=\"dataframe\">\n",
       "  <thead>\n",
       "    <tr style=\"text-align: right;\">\n",
       "      <th></th>\n",
       "      <th>age</th>\n",
       "      <th>duration</th>\n",
       "      <th>campaign</th>\n",
       "      <th>pdays</th>\n",
       "      <th>previous</th>\n",
       "      <th>emp.var.rate</th>\n",
       "      <th>cons.price.idx</th>\n",
       "      <th>cons.conf.idx</th>\n",
       "      <th>euribor3m</th>\n",
       "      <th>nr.employed</th>\n",
       "      <th>...</th>\n",
       "      <th>month_sep</th>\n",
       "      <th>day_of_week_fri</th>\n",
       "      <th>day_of_week_mon</th>\n",
       "      <th>day_of_week_thu</th>\n",
       "      <th>day_of_week_tue</th>\n",
       "      <th>day_of_week_wed</th>\n",
       "      <th>poutcome_failure</th>\n",
       "      <th>poutcome_nonexistent</th>\n",
       "      <th>poutcome_success</th>\n",
       "      <th>y</th>\n",
       "    </tr>\n",
       "  </thead>\n",
       "  <tbody>\n",
       "    <tr>\n",
       "      <th>0</th>\n",
       "      <td>1.642408</td>\n",
       "      <td>0.005681</td>\n",
       "      <td>-0.559363</td>\n",
       "      <td>0.211923</td>\n",
       "      <td>-0.371685</td>\n",
       "      <td>0.727467</td>\n",
       "      <td>0.803995</td>\n",
       "      <td>0.877601</td>\n",
       "      <td>0.786088</td>\n",
       "      <td>0.401639</td>\n",
       "      <td>...</td>\n",
       "      <td>0</td>\n",
       "      <td>0</td>\n",
       "      <td>1</td>\n",
       "      <td>0</td>\n",
       "      <td>0</td>\n",
       "      <td>0</td>\n",
       "      <td>0</td>\n",
       "      <td>1</td>\n",
       "      <td>0</td>\n",
       "      <td>0</td>\n",
       "    </tr>\n",
       "    <tr>\n",
       "      <th>1</th>\n",
       "      <td>-0.196436</td>\n",
       "      <td>-0.128039</td>\n",
       "      <td>-0.559363</td>\n",
       "      <td>0.211923</td>\n",
       "      <td>-0.371685</td>\n",
       "      <td>0.727467</td>\n",
       "      <td>0.803995</td>\n",
       "      <td>0.877601</td>\n",
       "      <td>0.786088</td>\n",
       "      <td>0.401639</td>\n",
       "      <td>...</td>\n",
       "      <td>0</td>\n",
       "      <td>0</td>\n",
       "      <td>1</td>\n",
       "      <td>0</td>\n",
       "      <td>0</td>\n",
       "      <td>0</td>\n",
       "      <td>0</td>\n",
       "      <td>1</td>\n",
       "      <td>0</td>\n",
       "      <td>0</td>\n",
       "    </tr>\n",
       "    <tr>\n",
       "      <th>2</th>\n",
       "      <td>0.093908</td>\n",
       "      <td>-0.414580</td>\n",
       "      <td>-0.559363</td>\n",
       "      <td>0.211923</td>\n",
       "      <td>-0.371685</td>\n",
       "      <td>0.727467</td>\n",
       "      <td>0.803995</td>\n",
       "      <td>0.877601</td>\n",
       "      <td>0.786088</td>\n",
       "      <td>0.401639</td>\n",
       "      <td>...</td>\n",
       "      <td>0</td>\n",
       "      <td>0</td>\n",
       "      <td>1</td>\n",
       "      <td>0</td>\n",
       "      <td>0</td>\n",
       "      <td>0</td>\n",
       "      <td>0</td>\n",
       "      <td>1</td>\n",
       "      <td>0</td>\n",
       "      <td>0</td>\n",
       "    </tr>\n",
       "    <tr>\n",
       "      <th>3</th>\n",
       "      <td>1.642408</td>\n",
       "      <td>0.181426</td>\n",
       "      <td>-0.559363</td>\n",
       "      <td>0.211923</td>\n",
       "      <td>-0.371685</td>\n",
       "      <td>0.727467</td>\n",
       "      <td>0.803995</td>\n",
       "      <td>0.877601</td>\n",
       "      <td>0.786088</td>\n",
       "      <td>0.401639</td>\n",
       "      <td>...</td>\n",
       "      <td>0</td>\n",
       "      <td>0</td>\n",
       "      <td>1</td>\n",
       "      <td>0</td>\n",
       "      <td>0</td>\n",
       "      <td>0</td>\n",
       "      <td>0</td>\n",
       "      <td>1</td>\n",
       "      <td>0</td>\n",
       "      <td>0</td>\n",
       "    </tr>\n",
       "    <tr>\n",
       "      <th>4</th>\n",
       "      <td>1.932752</td>\n",
       "      <td>-0.460427</td>\n",
       "      <td>-0.559363</td>\n",
       "      <td>0.211923</td>\n",
       "      <td>-0.371685</td>\n",
       "      <td>0.727467</td>\n",
       "      <td>0.803995</td>\n",
       "      <td>0.877601</td>\n",
       "      <td>0.786088</td>\n",
       "      <td>0.401639</td>\n",
       "      <td>...</td>\n",
       "      <td>0</td>\n",
       "      <td>0</td>\n",
       "      <td>1</td>\n",
       "      <td>0</td>\n",
       "      <td>0</td>\n",
       "      <td>0</td>\n",
       "      <td>0</td>\n",
       "      <td>1</td>\n",
       "      <td>0</td>\n",
       "      <td>0</td>\n",
       "    </tr>\n",
       "  </tbody>\n",
       "</table>\n",
       "<p>5 rows × 58 columns</p>\n",
       "</div>"
      ],
      "text/plain": [
       "        age  duration  campaign     pdays  previous  emp.var.rate  \\\n",
       "0  1.642408  0.005681 -0.559363  0.211923 -0.371685      0.727467   \n",
       "1 -0.196436 -0.128039 -0.559363  0.211923 -0.371685      0.727467   \n",
       "2  0.093908 -0.414580 -0.559363  0.211923 -0.371685      0.727467   \n",
       "3  1.642408  0.181426 -0.559363  0.211923 -0.371685      0.727467   \n",
       "4  1.932752 -0.460427 -0.559363  0.211923 -0.371685      0.727467   \n",
       "\n",
       "   cons.price.idx  cons.conf.idx  euribor3m  nr.employed  ...  month_sep  \\\n",
       "0        0.803995       0.877601   0.786088     0.401639  ...          0   \n",
       "1        0.803995       0.877601   0.786088     0.401639  ...          0   \n",
       "2        0.803995       0.877601   0.786088     0.401639  ...          0   \n",
       "3        0.803995       0.877601   0.786088     0.401639  ...          0   \n",
       "4        0.803995       0.877601   0.786088     0.401639  ...          0   \n",
       "\n",
       "   day_of_week_fri  day_of_week_mon  day_of_week_thu  day_of_week_tue  \\\n",
       "0                0                1                0                0   \n",
       "1                0                1                0                0   \n",
       "2                0                1                0                0   \n",
       "3                0                1                0                0   \n",
       "4                0                1                0                0   \n",
       "\n",
       "   day_of_week_wed  poutcome_failure  poutcome_nonexistent  poutcome_success  \\\n",
       "0                0                 0                     1                 0   \n",
       "1                0                 0                     1                 0   \n",
       "2                0                 0                     1                 0   \n",
       "3                0                 0                     1                 0   \n",
       "4                0                 0                     1                 0   \n",
       "\n",
       "   y  \n",
       "0  0  \n",
       "1  0  \n",
       "2  0  \n",
       "3  0  \n",
       "4  0  \n",
       "\n",
       "[5 rows x 58 columns]"
      ]
     },
     "execution_count": 33,
     "metadata": {},
     "output_type": "execute_result"
    }
   ],
   "source": [
    "over_scale_df = pd.concat((X_smote,y_smote), axis = 1)\n",
    "over_scale_df.head()"
   ]
  },
  {
   "cell_type": "markdown",
   "id": "cb94f544-b34e-4fd7-b090-333c2c3babc9",
   "metadata": {},
   "source": [
    "# 5. Xây dựng mô hình dự báo"
   ]
  },
  {
   "cell_type": "code",
   "execution_count": 34,
   "id": "9d51acfd-bab5-43b5-817d-075c679a191a",
   "metadata": {},
   "outputs": [],
   "source": [
    "from sklearn.model_selection import train_test_split\n",
    "from sklearn.metrics import classification_report"
   ]
  },
  {
   "cell_type": "markdown",
   "id": "eef2cb0c-515a-49f4-9e5c-fe6ad5a9a9cc",
   "metadata": {},
   "source": [
    "## 1. Logistic Classification"
   ]
  },
  {
   "cell_type": "code",
   "execution_count": 35,
   "id": "0c1bb9fb-e02e-4567-a711-4b20dee2913d",
   "metadata": {},
   "outputs": [],
   "source": [
    "from sklearn.linear_model import LogisticRegression"
   ]
  },
  {
   "cell_type": "markdown",
   "id": "4faad7de-28e8-4bc2-845f-e0af5efe8878",
   "metadata": {
    "tags": []
   },
   "source": [
    "### 1. Huấn luyện mô hình với dữ liệu Random OverSampling"
   ]
  },
  {
   "cell_type": "code",
   "execution_count": 36,
   "id": "3f40c72e-1ede-493a-ac29-e9a59396bce7",
   "metadata": {},
   "outputs": [],
   "source": [
    "# Random OverSampling\n",
    "X = up_scale_df.drop(columns = 'y')\n",
    "y = up_scale_df['y']\n",
    "X_train, X_test, y_train, y_test = train_test_split(X, y, test_size=0.2, random_state=42)"
   ]
  },
  {
   "cell_type": "code",
   "execution_count": 37,
   "id": "a81c6301-9071-4bc7-96fa-20588318d3fd",
   "metadata": {},
   "outputs": [
    {
     "data": {
      "text/html": [
       "<style>#sk-container-id-1 {color: black;background-color: white;}#sk-container-id-1 pre{padding: 0;}#sk-container-id-1 div.sk-toggleable {background-color: white;}#sk-container-id-1 label.sk-toggleable__label {cursor: pointer;display: block;width: 100%;margin-bottom: 0;padding: 0.3em;box-sizing: border-box;text-align: center;}#sk-container-id-1 label.sk-toggleable__label-arrow:before {content: \"▸\";float: left;margin-right: 0.25em;color: #696969;}#sk-container-id-1 label.sk-toggleable__label-arrow:hover:before {color: black;}#sk-container-id-1 div.sk-estimator:hover label.sk-toggleable__label-arrow:before {color: black;}#sk-container-id-1 div.sk-toggleable__content {max-height: 0;max-width: 0;overflow: hidden;text-align: left;background-color: #f0f8ff;}#sk-container-id-1 div.sk-toggleable__content pre {margin: 0.2em;color: black;border-radius: 0.25em;background-color: #f0f8ff;}#sk-container-id-1 input.sk-toggleable__control:checked~div.sk-toggleable__content {max-height: 200px;max-width: 100%;overflow: auto;}#sk-container-id-1 input.sk-toggleable__control:checked~label.sk-toggleable__label-arrow:before {content: \"▾\";}#sk-container-id-1 div.sk-estimator input.sk-toggleable__control:checked~label.sk-toggleable__label {background-color: #d4ebff;}#sk-container-id-1 div.sk-label input.sk-toggleable__control:checked~label.sk-toggleable__label {background-color: #d4ebff;}#sk-container-id-1 input.sk-hidden--visually {border: 0;clip: rect(1px 1px 1px 1px);clip: rect(1px, 1px, 1px, 1px);height: 1px;margin: -1px;overflow: hidden;padding: 0;position: absolute;width: 1px;}#sk-container-id-1 div.sk-estimator {font-family: monospace;background-color: #f0f8ff;border: 1px dotted black;border-radius: 0.25em;box-sizing: border-box;margin-bottom: 0.5em;}#sk-container-id-1 div.sk-estimator:hover {background-color: #d4ebff;}#sk-container-id-1 div.sk-parallel-item::after {content: \"\";width: 100%;border-bottom: 1px solid gray;flex-grow: 1;}#sk-container-id-1 div.sk-label:hover label.sk-toggleable__label {background-color: #d4ebff;}#sk-container-id-1 div.sk-serial::before {content: \"\";position: absolute;border-left: 1px solid gray;box-sizing: border-box;top: 0;bottom: 0;left: 50%;z-index: 0;}#sk-container-id-1 div.sk-serial {display: flex;flex-direction: column;align-items: center;background-color: white;padding-right: 0.2em;padding-left: 0.2em;position: relative;}#sk-container-id-1 div.sk-item {position: relative;z-index: 1;}#sk-container-id-1 div.sk-parallel {display: flex;align-items: stretch;justify-content: center;background-color: white;position: relative;}#sk-container-id-1 div.sk-item::before, #sk-container-id-1 div.sk-parallel-item::before {content: \"\";position: absolute;border-left: 1px solid gray;box-sizing: border-box;top: 0;bottom: 0;left: 50%;z-index: -1;}#sk-container-id-1 div.sk-parallel-item {display: flex;flex-direction: column;z-index: 1;position: relative;background-color: white;}#sk-container-id-1 div.sk-parallel-item:first-child::after {align-self: flex-end;width: 50%;}#sk-container-id-1 div.sk-parallel-item:last-child::after {align-self: flex-start;width: 50%;}#sk-container-id-1 div.sk-parallel-item:only-child::after {width: 0;}#sk-container-id-1 div.sk-dashed-wrapped {border: 1px dashed gray;margin: 0 0.4em 0.5em 0.4em;box-sizing: border-box;padding-bottom: 0.4em;background-color: white;}#sk-container-id-1 div.sk-label label {font-family: monospace;font-weight: bold;display: inline-block;line-height: 1.2em;}#sk-container-id-1 div.sk-label-container {text-align: center;}#sk-container-id-1 div.sk-container {/* jupyter's `normalize.less` sets `[hidden] { display: none; }` but bootstrap.min.css set `[hidden] { display: none !important; }` so we also need the `!important` here to be able to override the default hidden behavior on the sphinx rendered scikit-learn.org. See: https://github.com/scikit-learn/scikit-learn/issues/21755 */display: inline-block !important;position: relative;}#sk-container-id-1 div.sk-text-repr-fallback {display: none;}</style><div id=\"sk-container-id-1\" class=\"sk-top-container\"><div class=\"sk-text-repr-fallback\"><pre>LogisticRegression(class_weight=&#x27;balanced&#x27;, solver=&#x27;liblinear&#x27;)</pre><b>In a Jupyter environment, please rerun this cell to show the HTML representation or trust the notebook. <br />On GitHub, the HTML representation is unable to render, please try loading this page with nbviewer.org.</b></div><div class=\"sk-container\" hidden><div class=\"sk-item\"><div class=\"sk-estimator sk-toggleable\"><input class=\"sk-toggleable__control sk-hidden--visually\" id=\"sk-estimator-id-1\" type=\"checkbox\" checked><label for=\"sk-estimator-id-1\" class=\"sk-toggleable__label sk-toggleable__label-arrow\">LogisticRegression</label><div class=\"sk-toggleable__content\"><pre>LogisticRegression(class_weight=&#x27;balanced&#x27;, solver=&#x27;liblinear&#x27;)</pre></div></div></div></div></div>"
      ],
      "text/plain": [
       "LogisticRegression(class_weight='balanced', solver='liblinear')"
      ]
     },
     "execution_count": 37,
     "metadata": {},
     "output_type": "execute_result"
    }
   ],
   "source": [
    "logistic_model = LogisticRegression(solver = 'liblinear', class_weight = 'balanced')\n",
    "logistic_model.fit(X_train, y_train)"
   ]
  },
  {
   "cell_type": "code",
   "execution_count": 38,
   "id": "ae3edb3f-3c45-4f90-a2d3-7eb250adaa40",
   "metadata": {
    "tags": []
   },
   "outputs": [
    {
     "name": "stdout",
     "output_type": "stream",
     "text": [
      "              precision    recall  f1-score   support\n",
      "\n",
      "           0       0.88      0.85      0.86     21291\n",
      "           1       0.85      0.88      0.87     21301\n",
      "\n",
      "    accuracy                           0.86     42592\n",
      "   macro avg       0.86      0.86      0.86     42592\n",
      "weighted avg       0.86      0.86      0.86     42592\n",
      "\n"
     ]
    }
   ],
   "source": [
    "# Tập train\n",
    "y_train_pred = logistic_model.predict(X_train)\n",
    "print(classification_report(y_train, y_train_pred))"
   ]
  },
  {
   "cell_type": "code",
   "execution_count": 39,
   "id": "45fa1aa3-370d-4f78-bbf0-a42fe430099a",
   "metadata": {},
   "outputs": [
    {
     "name": "stdout",
     "output_type": "stream",
     "text": [
      "              precision    recall  f1-score   support\n",
      "\n",
      "           0       0.88      0.85      0.86      5329\n",
      "           1       0.86      0.88      0.87      5319\n",
      "\n",
      "    accuracy                           0.87     10648\n",
      "   macro avg       0.87      0.87      0.87     10648\n",
      "weighted avg       0.87      0.87      0.87     10648\n",
      "\n"
     ]
    }
   ],
   "source": [
    "# Tập test\n",
    "y_test_pred = logistic_model.predict(X_test)\n",
    "print(classification_report(y_test, y_test_pred))"
   ]
  },
  {
   "cell_type": "markdown",
   "id": "aaaa5b15-718e-4ed7-8325-544df4b1ebd8",
   "metadata": {
    "tags": []
   },
   "source": [
    "### Nhận xét:\n",
    "- <font size='3'>Mô hình dự báo khá tốt về khi sử dụng Random OverSampling</font>\n",
    "- <font size='3'>Ta chỉ xét ở `precision và recall` thì ta thấy mô hình dữ báo `~ 90%` ở cả tập train và tập test</font>"
   ]
  },
  {
   "cell_type": "markdown",
   "id": "3dba9af3-c283-4988-bbac-3ec923024a3f",
   "metadata": {},
   "source": [
    "---"
   ]
  },
  {
   "cell_type": "markdown",
   "id": "0ab80c28-72d2-48fb-b428-7b514fde5236",
   "metadata": {},
   "source": [
    "### 2.  Huấn luyện mô hình với dữ liệu OverSampling SMOTE"
   ]
  },
  {
   "cell_type": "code",
   "execution_count": 40,
   "id": "266f5926-d821-4678-91f3-ea0ac7216a22",
   "metadata": {},
   "outputs": [],
   "source": [
    "# OverSampling\n",
    "X = over_scale_df.drop(columns = 'y')\n",
    "y = over_scale_df['y']\n",
    "X_train, X_test, y_train, y_test = train_test_split(X, y, test_size=0.2, random_state=42)"
   ]
  },
  {
   "cell_type": "code",
   "execution_count": 41,
   "id": "c0b013ab-66fe-400e-b30c-5df693d3d8ea",
   "metadata": {},
   "outputs": [
    {
     "data": {
      "text/html": [
       "<style>#sk-container-id-2 {color: black;background-color: white;}#sk-container-id-2 pre{padding: 0;}#sk-container-id-2 div.sk-toggleable {background-color: white;}#sk-container-id-2 label.sk-toggleable__label {cursor: pointer;display: block;width: 100%;margin-bottom: 0;padding: 0.3em;box-sizing: border-box;text-align: center;}#sk-container-id-2 label.sk-toggleable__label-arrow:before {content: \"▸\";float: left;margin-right: 0.25em;color: #696969;}#sk-container-id-2 label.sk-toggleable__label-arrow:hover:before {color: black;}#sk-container-id-2 div.sk-estimator:hover label.sk-toggleable__label-arrow:before {color: black;}#sk-container-id-2 div.sk-toggleable__content {max-height: 0;max-width: 0;overflow: hidden;text-align: left;background-color: #f0f8ff;}#sk-container-id-2 div.sk-toggleable__content pre {margin: 0.2em;color: black;border-radius: 0.25em;background-color: #f0f8ff;}#sk-container-id-2 input.sk-toggleable__control:checked~div.sk-toggleable__content {max-height: 200px;max-width: 100%;overflow: auto;}#sk-container-id-2 input.sk-toggleable__control:checked~label.sk-toggleable__label-arrow:before {content: \"▾\";}#sk-container-id-2 div.sk-estimator input.sk-toggleable__control:checked~label.sk-toggleable__label {background-color: #d4ebff;}#sk-container-id-2 div.sk-label input.sk-toggleable__control:checked~label.sk-toggleable__label {background-color: #d4ebff;}#sk-container-id-2 input.sk-hidden--visually {border: 0;clip: rect(1px 1px 1px 1px);clip: rect(1px, 1px, 1px, 1px);height: 1px;margin: -1px;overflow: hidden;padding: 0;position: absolute;width: 1px;}#sk-container-id-2 div.sk-estimator {font-family: monospace;background-color: #f0f8ff;border: 1px dotted black;border-radius: 0.25em;box-sizing: border-box;margin-bottom: 0.5em;}#sk-container-id-2 div.sk-estimator:hover {background-color: #d4ebff;}#sk-container-id-2 div.sk-parallel-item::after {content: \"\";width: 100%;border-bottom: 1px solid gray;flex-grow: 1;}#sk-container-id-2 div.sk-label:hover label.sk-toggleable__label {background-color: #d4ebff;}#sk-container-id-2 div.sk-serial::before {content: \"\";position: absolute;border-left: 1px solid gray;box-sizing: border-box;top: 0;bottom: 0;left: 50%;z-index: 0;}#sk-container-id-2 div.sk-serial {display: flex;flex-direction: column;align-items: center;background-color: white;padding-right: 0.2em;padding-left: 0.2em;position: relative;}#sk-container-id-2 div.sk-item {position: relative;z-index: 1;}#sk-container-id-2 div.sk-parallel {display: flex;align-items: stretch;justify-content: center;background-color: white;position: relative;}#sk-container-id-2 div.sk-item::before, #sk-container-id-2 div.sk-parallel-item::before {content: \"\";position: absolute;border-left: 1px solid gray;box-sizing: border-box;top: 0;bottom: 0;left: 50%;z-index: -1;}#sk-container-id-2 div.sk-parallel-item {display: flex;flex-direction: column;z-index: 1;position: relative;background-color: white;}#sk-container-id-2 div.sk-parallel-item:first-child::after {align-self: flex-end;width: 50%;}#sk-container-id-2 div.sk-parallel-item:last-child::after {align-self: flex-start;width: 50%;}#sk-container-id-2 div.sk-parallel-item:only-child::after {width: 0;}#sk-container-id-2 div.sk-dashed-wrapped {border: 1px dashed gray;margin: 0 0.4em 0.5em 0.4em;box-sizing: border-box;padding-bottom: 0.4em;background-color: white;}#sk-container-id-2 div.sk-label label {font-family: monospace;font-weight: bold;display: inline-block;line-height: 1.2em;}#sk-container-id-2 div.sk-label-container {text-align: center;}#sk-container-id-2 div.sk-container {/* jupyter's `normalize.less` sets `[hidden] { display: none; }` but bootstrap.min.css set `[hidden] { display: none !important; }` so we also need the `!important` here to be able to override the default hidden behavior on the sphinx rendered scikit-learn.org. See: https://github.com/scikit-learn/scikit-learn/issues/21755 */display: inline-block !important;position: relative;}#sk-container-id-2 div.sk-text-repr-fallback {display: none;}</style><div id=\"sk-container-id-2\" class=\"sk-top-container\"><div class=\"sk-text-repr-fallback\"><pre>LogisticRegression(class_weight=&#x27;balanced&#x27;, solver=&#x27;liblinear&#x27;)</pre><b>In a Jupyter environment, please rerun this cell to show the HTML representation or trust the notebook. <br />On GitHub, the HTML representation is unable to render, please try loading this page with nbviewer.org.</b></div><div class=\"sk-container\" hidden><div class=\"sk-item\"><div class=\"sk-estimator sk-toggleable\"><input class=\"sk-toggleable__control sk-hidden--visually\" id=\"sk-estimator-id-2\" type=\"checkbox\" checked><label for=\"sk-estimator-id-2\" class=\"sk-toggleable__label sk-toggleable__label-arrow\">LogisticRegression</label><div class=\"sk-toggleable__content\"><pre>LogisticRegression(class_weight=&#x27;balanced&#x27;, solver=&#x27;liblinear&#x27;)</pre></div></div></div></div></div>"
      ],
      "text/plain": [
       "LogisticRegression(class_weight='balanced', solver='liblinear')"
      ]
     },
     "execution_count": 41,
     "metadata": {},
     "output_type": "execute_result"
    }
   ],
   "source": [
    "logistic_model = LogisticRegression(solver = 'liblinear', class_weight = 'balanced')\n",
    "logistic_model.fit(X_train, y_train)"
   ]
  },
  {
   "cell_type": "code",
   "execution_count": 42,
   "id": "dcda318c-3c0d-43f1-824f-18e32c44fe01",
   "metadata": {},
   "outputs": [
    {
     "name": "stdout",
     "output_type": "stream",
     "text": [
      "              precision    recall  f1-score   support\n",
      "\n",
      "           0       0.92      0.95      0.94     21307\n",
      "           1       0.95      0.91      0.93     21285\n",
      "\n",
      "    accuracy                           0.93     42592\n",
      "   macro avg       0.93      0.93      0.93     42592\n",
      "weighted avg       0.93      0.93      0.93     42592\n",
      "\n"
     ]
    }
   ],
   "source": [
    "# Tập train\n",
    "y_train_pred = logistic_model.predict(X_train)\n",
    "print(classification_report(y_train, y_train_pred))"
   ]
  },
  {
   "cell_type": "code",
   "execution_count": 43,
   "id": "bf715f20-6b10-4abe-a180-371575dd4298",
   "metadata": {},
   "outputs": [
    {
     "name": "stdout",
     "output_type": "stream",
     "text": [
      "              precision    recall  f1-score   support\n",
      "\n",
      "           0       0.92      0.95      0.94      5313\n",
      "           1       0.95      0.92      0.93      5335\n",
      "\n",
      "    accuracy                           0.94     10648\n",
      "   macro avg       0.94      0.94      0.94     10648\n",
      "weighted avg       0.94      0.94      0.94     10648\n",
      "\n"
     ]
    }
   ],
   "source": [
    "# Tập test\n",
    "y_test_pred = logistic_model.predict(X_test)\n",
    "print(classification_report(y_test, y_test_pred))"
   ]
  },
  {
   "cell_type": "markdown",
   "id": "60cc4583-66eb-4f83-8ead-70ac19bb097e",
   "metadata": {},
   "source": [
    "### Nhận xét:\n",
    "- <font size='3'>Mô hình dự báo tốt hơn Random OverSampling khi dùng OverSampling SMOTE</font>\n",
    "- <font size='3'>Ta chỉ xét ở `precision và recall` thì ta thấy mô hình dữ báo `> 90%` ở cả tập train và tập test</font>"
   ]
  },
  {
   "cell_type": "markdown",
   "id": "b7b3e397-3c40-407d-a5f6-5b90902f1356",
   "metadata": {
    "tags": []
   },
   "source": [
    "## 2. Random Forest Classification"
   ]
  },
  {
   "cell_type": "code",
   "execution_count": 44,
   "id": "62c0ce9d-b344-4689-a6bc-b06f2b6bb5ff",
   "metadata": {},
   "outputs": [],
   "source": [
    "from sklearn.ensemble import RandomForestClassifier"
   ]
  },
  {
   "cell_type": "markdown",
   "id": "0650f653-2e58-41fb-869a-ef1601f5fa3d",
   "metadata": {},
   "source": [
    "### 1. Huấn luyện mô hình không sử dụng SMOTE"
   ]
  },
  {
   "cell_type": "code",
   "execution_count": 45,
   "id": "31e328be-0bf8-4fa1-80b6-b87354605b20",
   "metadata": {},
   "outputs": [],
   "source": [
    "X = scale_df.drop(columns = 'y')\n",
    "y = scale_df['y']\n",
    "X_train, X_test, y_train, y_test = train_test_split(X, y, test_size=0.2, random_state=42)"
   ]
  },
  {
   "cell_type": "code",
   "execution_count": 46,
   "id": "c8ba6633-e4df-4e71-ae2f-a3fb5df7414e",
   "metadata": {},
   "outputs": [
    {
     "data": {
      "text/html": [
       "<style>#sk-container-id-3 {color: black;background-color: white;}#sk-container-id-3 pre{padding: 0;}#sk-container-id-3 div.sk-toggleable {background-color: white;}#sk-container-id-3 label.sk-toggleable__label {cursor: pointer;display: block;width: 100%;margin-bottom: 0;padding: 0.3em;box-sizing: border-box;text-align: center;}#sk-container-id-3 label.sk-toggleable__label-arrow:before {content: \"▸\";float: left;margin-right: 0.25em;color: #696969;}#sk-container-id-3 label.sk-toggleable__label-arrow:hover:before {color: black;}#sk-container-id-3 div.sk-estimator:hover label.sk-toggleable__label-arrow:before {color: black;}#sk-container-id-3 div.sk-toggleable__content {max-height: 0;max-width: 0;overflow: hidden;text-align: left;background-color: #f0f8ff;}#sk-container-id-3 div.sk-toggleable__content pre {margin: 0.2em;color: black;border-radius: 0.25em;background-color: #f0f8ff;}#sk-container-id-3 input.sk-toggleable__control:checked~div.sk-toggleable__content {max-height: 200px;max-width: 100%;overflow: auto;}#sk-container-id-3 input.sk-toggleable__control:checked~label.sk-toggleable__label-arrow:before {content: \"▾\";}#sk-container-id-3 div.sk-estimator input.sk-toggleable__control:checked~label.sk-toggleable__label {background-color: #d4ebff;}#sk-container-id-3 div.sk-label input.sk-toggleable__control:checked~label.sk-toggleable__label {background-color: #d4ebff;}#sk-container-id-3 input.sk-hidden--visually {border: 0;clip: rect(1px 1px 1px 1px);clip: rect(1px, 1px, 1px, 1px);height: 1px;margin: -1px;overflow: hidden;padding: 0;position: absolute;width: 1px;}#sk-container-id-3 div.sk-estimator {font-family: monospace;background-color: #f0f8ff;border: 1px dotted black;border-radius: 0.25em;box-sizing: border-box;margin-bottom: 0.5em;}#sk-container-id-3 div.sk-estimator:hover {background-color: #d4ebff;}#sk-container-id-3 div.sk-parallel-item::after {content: \"\";width: 100%;border-bottom: 1px solid gray;flex-grow: 1;}#sk-container-id-3 div.sk-label:hover label.sk-toggleable__label {background-color: #d4ebff;}#sk-container-id-3 div.sk-serial::before {content: \"\";position: absolute;border-left: 1px solid gray;box-sizing: border-box;top: 0;bottom: 0;left: 50%;z-index: 0;}#sk-container-id-3 div.sk-serial {display: flex;flex-direction: column;align-items: center;background-color: white;padding-right: 0.2em;padding-left: 0.2em;position: relative;}#sk-container-id-3 div.sk-item {position: relative;z-index: 1;}#sk-container-id-3 div.sk-parallel {display: flex;align-items: stretch;justify-content: center;background-color: white;position: relative;}#sk-container-id-3 div.sk-item::before, #sk-container-id-3 div.sk-parallel-item::before {content: \"\";position: absolute;border-left: 1px solid gray;box-sizing: border-box;top: 0;bottom: 0;left: 50%;z-index: -1;}#sk-container-id-3 div.sk-parallel-item {display: flex;flex-direction: column;z-index: 1;position: relative;background-color: white;}#sk-container-id-3 div.sk-parallel-item:first-child::after {align-self: flex-end;width: 50%;}#sk-container-id-3 div.sk-parallel-item:last-child::after {align-self: flex-start;width: 50%;}#sk-container-id-3 div.sk-parallel-item:only-child::after {width: 0;}#sk-container-id-3 div.sk-dashed-wrapped {border: 1px dashed gray;margin: 0 0.4em 0.5em 0.4em;box-sizing: border-box;padding-bottom: 0.4em;background-color: white;}#sk-container-id-3 div.sk-label label {font-family: monospace;font-weight: bold;display: inline-block;line-height: 1.2em;}#sk-container-id-3 div.sk-label-container {text-align: center;}#sk-container-id-3 div.sk-container {/* jupyter's `normalize.less` sets `[hidden] { display: none; }` but bootstrap.min.css set `[hidden] { display: none !important; }` so we also need the `!important` here to be able to override the default hidden behavior on the sphinx rendered scikit-learn.org. See: https://github.com/scikit-learn/scikit-learn/issues/21755 */display: inline-block !important;position: relative;}#sk-container-id-3 div.sk-text-repr-fallback {display: none;}</style><div id=\"sk-container-id-3\" class=\"sk-top-container\"><div class=\"sk-text-repr-fallback\"><pre>RandomForestClassifier(max_depth=10, random_state=42)</pre><b>In a Jupyter environment, please rerun this cell to show the HTML representation or trust the notebook. <br />On GitHub, the HTML representation is unable to render, please try loading this page with nbviewer.org.</b></div><div class=\"sk-container\" hidden><div class=\"sk-item\"><div class=\"sk-estimator sk-toggleable\"><input class=\"sk-toggleable__control sk-hidden--visually\" id=\"sk-estimator-id-3\" type=\"checkbox\" checked><label for=\"sk-estimator-id-3\" class=\"sk-toggleable__label sk-toggleable__label-arrow\">RandomForestClassifier</label><div class=\"sk-toggleable__content\"><pre>RandomForestClassifier(max_depth=10, random_state=42)</pre></div></div></div></div></div>"
      ],
      "text/plain": [
       "RandomForestClassifier(max_depth=10, random_state=42)"
      ]
     },
     "execution_count": 46,
     "metadata": {},
     "output_type": "execute_result"
    }
   ],
   "source": [
    "rf_clf = RandomForestClassifier(max_depth=10, random_state=42)\n",
    "rf_clf.fit(X_train, y_train)"
   ]
  },
  {
   "cell_type": "code",
   "execution_count": 47,
   "id": "c45231ae-23ec-4b25-add5-c6294b472c5c",
   "metadata": {},
   "outputs": [
    {
     "name": "stdout",
     "output_type": "stream",
     "text": [
      "              precision    recall  f1-score   support\n",
      "\n",
      "           0       0.93      0.99      0.96     21311\n",
      "           1       0.89      0.47      0.61      3071\n",
      "\n",
      "    accuracy                           0.93     24382\n",
      "   macro avg       0.91      0.73      0.78     24382\n",
      "weighted avg       0.92      0.93      0.91     24382\n",
      "\n"
     ]
    }
   ],
   "source": [
    "# Tập train\n",
    "y_train_pred = rf_clf.predict(X_train)\n",
    "print(classification_report(y_train, y_train_pred))"
   ]
  },
  {
   "cell_type": "code",
   "execution_count": 48,
   "id": "2a41d568-7c51-4399-8ac6-9908af22b31b",
   "metadata": {},
   "outputs": [
    {
     "name": "stdout",
     "output_type": "stream",
     "text": [
      "              precision    recall  f1-score   support\n",
      "\n",
      "           0       0.91      0.98      0.95      5309\n",
      "           1       0.77      0.38      0.51       787\n",
      "\n",
      "    accuracy                           0.90      6096\n",
      "   macro avg       0.84      0.68      0.73      6096\n",
      "weighted avg       0.90      0.90      0.89      6096\n",
      "\n"
     ]
    }
   ],
   "source": [
    "# Tập test\n",
    "y_test_pred = rf_clf.predict(X_test)\n",
    "print(classification_report(y_test, y_test_pred))"
   ]
  },
  {
   "cell_type": "markdown",
   "id": "7271c840-dd64-4f3c-8fcf-690d05c2292c",
   "metadata": {},
   "source": [
    "### Nhận xét:\n",
    "- <font size='3'>Dù mô hình có `accuracy` cao nhưng `recall` và `precision` ở label `yes` khá thấp.</font>\n",
    "- <font size ='3'>Mô hình chỉ đúng ở tập ở dữ liệu đã huấn luyện, không tốt khi gặp dữ liệu mới</font>"
   ]
  },
  {
   "cell_type": "markdown",
   "id": "5ae49bb6-ffac-427f-9e94-4d65b2d7fbc0",
   "metadata": {},
   "source": [
    "### 2. Huấn luyện mô hình sử dụng SMOTE "
   ]
  },
  {
   "cell_type": "code",
   "execution_count": 49,
   "id": "45bfb5e6-a484-4a05-bde3-d3554f42dfb6",
   "metadata": {},
   "outputs": [],
   "source": [
    "X = over_scale_df.drop(columns = 'y')\n",
    "y = over_scale_df['y']\n",
    "X_train, X_test, y_train, y_test = train_test_split(X, y, test_size=0.2, random_state=42)"
   ]
  },
  {
   "cell_type": "code",
   "execution_count": 50,
   "id": "9fd44a84-c1fa-4eb1-ba96-2b69c49e0005",
   "metadata": {},
   "outputs": [
    {
     "data": {
      "text/html": [
       "<style>#sk-container-id-4 {color: black;background-color: white;}#sk-container-id-4 pre{padding: 0;}#sk-container-id-4 div.sk-toggleable {background-color: white;}#sk-container-id-4 label.sk-toggleable__label {cursor: pointer;display: block;width: 100%;margin-bottom: 0;padding: 0.3em;box-sizing: border-box;text-align: center;}#sk-container-id-4 label.sk-toggleable__label-arrow:before {content: \"▸\";float: left;margin-right: 0.25em;color: #696969;}#sk-container-id-4 label.sk-toggleable__label-arrow:hover:before {color: black;}#sk-container-id-4 div.sk-estimator:hover label.sk-toggleable__label-arrow:before {color: black;}#sk-container-id-4 div.sk-toggleable__content {max-height: 0;max-width: 0;overflow: hidden;text-align: left;background-color: #f0f8ff;}#sk-container-id-4 div.sk-toggleable__content pre {margin: 0.2em;color: black;border-radius: 0.25em;background-color: #f0f8ff;}#sk-container-id-4 input.sk-toggleable__control:checked~div.sk-toggleable__content {max-height: 200px;max-width: 100%;overflow: auto;}#sk-container-id-4 input.sk-toggleable__control:checked~label.sk-toggleable__label-arrow:before {content: \"▾\";}#sk-container-id-4 div.sk-estimator input.sk-toggleable__control:checked~label.sk-toggleable__label {background-color: #d4ebff;}#sk-container-id-4 div.sk-label input.sk-toggleable__control:checked~label.sk-toggleable__label {background-color: #d4ebff;}#sk-container-id-4 input.sk-hidden--visually {border: 0;clip: rect(1px 1px 1px 1px);clip: rect(1px, 1px, 1px, 1px);height: 1px;margin: -1px;overflow: hidden;padding: 0;position: absolute;width: 1px;}#sk-container-id-4 div.sk-estimator {font-family: monospace;background-color: #f0f8ff;border: 1px dotted black;border-radius: 0.25em;box-sizing: border-box;margin-bottom: 0.5em;}#sk-container-id-4 div.sk-estimator:hover {background-color: #d4ebff;}#sk-container-id-4 div.sk-parallel-item::after {content: \"\";width: 100%;border-bottom: 1px solid gray;flex-grow: 1;}#sk-container-id-4 div.sk-label:hover label.sk-toggleable__label {background-color: #d4ebff;}#sk-container-id-4 div.sk-serial::before {content: \"\";position: absolute;border-left: 1px solid gray;box-sizing: border-box;top: 0;bottom: 0;left: 50%;z-index: 0;}#sk-container-id-4 div.sk-serial {display: flex;flex-direction: column;align-items: center;background-color: white;padding-right: 0.2em;padding-left: 0.2em;position: relative;}#sk-container-id-4 div.sk-item {position: relative;z-index: 1;}#sk-container-id-4 div.sk-parallel {display: flex;align-items: stretch;justify-content: center;background-color: white;position: relative;}#sk-container-id-4 div.sk-item::before, #sk-container-id-4 div.sk-parallel-item::before {content: \"\";position: absolute;border-left: 1px solid gray;box-sizing: border-box;top: 0;bottom: 0;left: 50%;z-index: -1;}#sk-container-id-4 div.sk-parallel-item {display: flex;flex-direction: column;z-index: 1;position: relative;background-color: white;}#sk-container-id-4 div.sk-parallel-item:first-child::after {align-self: flex-end;width: 50%;}#sk-container-id-4 div.sk-parallel-item:last-child::after {align-self: flex-start;width: 50%;}#sk-container-id-4 div.sk-parallel-item:only-child::after {width: 0;}#sk-container-id-4 div.sk-dashed-wrapped {border: 1px dashed gray;margin: 0 0.4em 0.5em 0.4em;box-sizing: border-box;padding-bottom: 0.4em;background-color: white;}#sk-container-id-4 div.sk-label label {font-family: monospace;font-weight: bold;display: inline-block;line-height: 1.2em;}#sk-container-id-4 div.sk-label-container {text-align: center;}#sk-container-id-4 div.sk-container {/* jupyter's `normalize.less` sets `[hidden] { display: none; }` but bootstrap.min.css set `[hidden] { display: none !important; }` so we also need the `!important` here to be able to override the default hidden behavior on the sphinx rendered scikit-learn.org. See: https://github.com/scikit-learn/scikit-learn/issues/21755 */display: inline-block !important;position: relative;}#sk-container-id-4 div.sk-text-repr-fallback {display: none;}</style><div id=\"sk-container-id-4\" class=\"sk-top-container\"><div class=\"sk-text-repr-fallback\"><pre>RandomForestClassifier(max_depth=10, random_state=42)</pre><b>In a Jupyter environment, please rerun this cell to show the HTML representation or trust the notebook. <br />On GitHub, the HTML representation is unable to render, please try loading this page with nbviewer.org.</b></div><div class=\"sk-container\" hidden><div class=\"sk-item\"><div class=\"sk-estimator sk-toggleable\"><input class=\"sk-toggleable__control sk-hidden--visually\" id=\"sk-estimator-id-4\" type=\"checkbox\" checked><label for=\"sk-estimator-id-4\" class=\"sk-toggleable__label sk-toggleable__label-arrow\">RandomForestClassifier</label><div class=\"sk-toggleable__content\"><pre>RandomForestClassifier(max_depth=10, random_state=42)</pre></div></div></div></div></div>"
      ],
      "text/plain": [
       "RandomForestClassifier(max_depth=10, random_state=42)"
      ]
     },
     "execution_count": 50,
     "metadata": {},
     "output_type": "execute_result"
    }
   ],
   "source": [
    "rf_clf = RandomForestClassifier(max_depth=10, random_state=42)\n",
    "rf_clf.fit(X_train, y_train)"
   ]
  },
  {
   "cell_type": "code",
   "execution_count": 51,
   "id": "6c0ef5c7-0406-4d0a-a048-7748181bc596",
   "metadata": {},
   "outputs": [
    {
     "name": "stdout",
     "output_type": "stream",
     "text": [
      "              precision    recall  f1-score   support\n",
      "\n",
      "           0       0.96      0.89      0.92     21307\n",
      "           1       0.90      0.97      0.93     21285\n",
      "\n",
      "    accuracy                           0.93     42592\n",
      "   macro avg       0.93      0.93      0.93     42592\n",
      "weighted avg       0.93      0.93      0.93     42592\n",
      "\n"
     ]
    }
   ],
   "source": [
    "# Tập train\n",
    "y_train_pred = rf_clf.predict(X_train)\n",
    "print(classification_report(y_train, y_train_pred))"
   ]
  },
  {
   "cell_type": "code",
   "execution_count": 52,
   "id": "79140d54-b4f2-46db-a80a-99f54eb8bbdb",
   "metadata": {},
   "outputs": [
    {
     "name": "stdout",
     "output_type": "stream",
     "text": [
      "              precision    recall  f1-score   support\n",
      "\n",
      "           0       0.95      0.87      0.91      5313\n",
      "           1       0.88      0.96      0.91      5335\n",
      "\n",
      "    accuracy                           0.91     10648\n",
      "   macro avg       0.91      0.91      0.91     10648\n",
      "weighted avg       0.91      0.91      0.91     10648\n",
      "\n"
     ]
    }
   ],
   "source": [
    "# Tập test\n",
    "y_test_pred = rf_clf.predict(X_test)\n",
    "print(classification_report(y_test, y_test_pred))"
   ]
  },
  {
   "cell_type": "markdown",
   "id": "fc0c61ba-4c8e-49aa-8907-80a57c5a1a03",
   "metadata": {},
   "source": [
    "### Nhận xét:\n",
    "- <font size='3'>Mô hình dự báo tốt hơn khi dùng OverSampling.</font>\n",
    "- <font size ='3'>`precision` và `recall` cao -> mô hình tốt với dữ liệu mới </font>"
   ]
  },
  {
   "cell_type": "markdown",
   "id": "ef71fe0d-16bf-461a-bc6d-115795797689",
   "metadata": {},
   "source": [
    "## 3. XGBoost"
   ]
  },
  {
   "cell_type": "code",
   "execution_count": 53,
   "id": "006325d2-d548-40e1-83c5-ee3ff825db93",
   "metadata": {},
   "outputs": [],
   "source": [
    "from xgboost import XGBClassifier"
   ]
  },
  {
   "cell_type": "code",
   "execution_count": 94,
   "id": "d78e4773-fab6-48f1-806b-ffab9f98dd01",
   "metadata": {},
   "outputs": [],
   "source": [
    "X = over_scale_df.drop(columns = 'y')\n",
    "y = over_scale_df['y']\n",
    "X_train, X_test, y_train, y_test = train_test_split(X, y, test_size=0.2, random_state=42)"
   ]
  },
  {
   "cell_type": "code",
   "execution_count": 95,
   "id": "b93fa43c-e886-44b1-bd59-1787ee9e0996",
   "metadata": {},
   "outputs": [
    {
     "data": {
      "text/html": [
       "<style>#sk-container-id-8 {color: black;background-color: white;}#sk-container-id-8 pre{padding: 0;}#sk-container-id-8 div.sk-toggleable {background-color: white;}#sk-container-id-8 label.sk-toggleable__label {cursor: pointer;display: block;width: 100%;margin-bottom: 0;padding: 0.3em;box-sizing: border-box;text-align: center;}#sk-container-id-8 label.sk-toggleable__label-arrow:before {content: \"▸\";float: left;margin-right: 0.25em;color: #696969;}#sk-container-id-8 label.sk-toggleable__label-arrow:hover:before {color: black;}#sk-container-id-8 div.sk-estimator:hover label.sk-toggleable__label-arrow:before {color: black;}#sk-container-id-8 div.sk-toggleable__content {max-height: 0;max-width: 0;overflow: hidden;text-align: left;background-color: #f0f8ff;}#sk-container-id-8 div.sk-toggleable__content pre {margin: 0.2em;color: black;border-radius: 0.25em;background-color: #f0f8ff;}#sk-container-id-8 input.sk-toggleable__control:checked~div.sk-toggleable__content {max-height: 200px;max-width: 100%;overflow: auto;}#sk-container-id-8 input.sk-toggleable__control:checked~label.sk-toggleable__label-arrow:before {content: \"▾\";}#sk-container-id-8 div.sk-estimator input.sk-toggleable__control:checked~label.sk-toggleable__label {background-color: #d4ebff;}#sk-container-id-8 div.sk-label input.sk-toggleable__control:checked~label.sk-toggleable__label {background-color: #d4ebff;}#sk-container-id-8 input.sk-hidden--visually {border: 0;clip: rect(1px 1px 1px 1px);clip: rect(1px, 1px, 1px, 1px);height: 1px;margin: -1px;overflow: hidden;padding: 0;position: absolute;width: 1px;}#sk-container-id-8 div.sk-estimator {font-family: monospace;background-color: #f0f8ff;border: 1px dotted black;border-radius: 0.25em;box-sizing: border-box;margin-bottom: 0.5em;}#sk-container-id-8 div.sk-estimator:hover {background-color: #d4ebff;}#sk-container-id-8 div.sk-parallel-item::after {content: \"\";width: 100%;border-bottom: 1px solid gray;flex-grow: 1;}#sk-container-id-8 div.sk-label:hover label.sk-toggleable__label {background-color: #d4ebff;}#sk-container-id-8 div.sk-serial::before {content: \"\";position: absolute;border-left: 1px solid gray;box-sizing: border-box;top: 0;bottom: 0;left: 50%;z-index: 0;}#sk-container-id-8 div.sk-serial {display: flex;flex-direction: column;align-items: center;background-color: white;padding-right: 0.2em;padding-left: 0.2em;position: relative;}#sk-container-id-8 div.sk-item {position: relative;z-index: 1;}#sk-container-id-8 div.sk-parallel {display: flex;align-items: stretch;justify-content: center;background-color: white;position: relative;}#sk-container-id-8 div.sk-item::before, #sk-container-id-8 div.sk-parallel-item::before {content: \"\";position: absolute;border-left: 1px solid gray;box-sizing: border-box;top: 0;bottom: 0;left: 50%;z-index: -1;}#sk-container-id-8 div.sk-parallel-item {display: flex;flex-direction: column;z-index: 1;position: relative;background-color: white;}#sk-container-id-8 div.sk-parallel-item:first-child::after {align-self: flex-end;width: 50%;}#sk-container-id-8 div.sk-parallel-item:last-child::after {align-self: flex-start;width: 50%;}#sk-container-id-8 div.sk-parallel-item:only-child::after {width: 0;}#sk-container-id-8 div.sk-dashed-wrapped {border: 1px dashed gray;margin: 0 0.4em 0.5em 0.4em;box-sizing: border-box;padding-bottom: 0.4em;background-color: white;}#sk-container-id-8 div.sk-label label {font-family: monospace;font-weight: bold;display: inline-block;line-height: 1.2em;}#sk-container-id-8 div.sk-label-container {text-align: center;}#sk-container-id-8 div.sk-container {/* jupyter's `normalize.less` sets `[hidden] { display: none; }` but bootstrap.min.css set `[hidden] { display: none !important; }` so we also need the `!important` here to be able to override the default hidden behavior on the sphinx rendered scikit-learn.org. See: https://github.com/scikit-learn/scikit-learn/issues/21755 */display: inline-block !important;position: relative;}#sk-container-id-8 div.sk-text-repr-fallback {display: none;}</style><div id=\"sk-container-id-8\" class=\"sk-top-container\"><div class=\"sk-text-repr-fallback\"><pre>XGBClassifier(base_score=0.5, booster=&#x27;gbtree&#x27;, callbacks=None,\n",
       "              colsample_bylevel=1, colsample_bynode=1, colsample_bytree=1,\n",
       "              early_stopping_rounds=None, enable_categorical=False,\n",
       "              eval_metric=None, gamma=0, gpu_id=-1, grow_policy=&#x27;depthwise&#x27;,\n",
       "              importance_type=None, interaction_constraints=&#x27;&#x27;,\n",
       "              learning_rate=0.1, max_bin=256, max_cat_to_onehot=4,\n",
       "              max_delta_step=0, max_depth=10, max_leaves=0, min_child_weight=1,\n",
       "              missing=nan, monotone_constraints=&#x27;()&#x27;, n_estimators=50, n_jobs=5,\n",
       "              num_parallel_tree=1, predictor=&#x27;auto&#x27;, random_state=42,\n",
       "              reg_alpha=0, reg_lambda=1, ...)</pre><b>In a Jupyter environment, please rerun this cell to show the HTML representation or trust the notebook. <br />On GitHub, the HTML representation is unable to render, please try loading this page with nbviewer.org.</b></div><div class=\"sk-container\" hidden><div class=\"sk-item\"><div class=\"sk-estimator sk-toggleable\"><input class=\"sk-toggleable__control sk-hidden--visually\" id=\"sk-estimator-id-8\" type=\"checkbox\" checked><label for=\"sk-estimator-id-8\" class=\"sk-toggleable__label sk-toggleable__label-arrow\">XGBClassifier</label><div class=\"sk-toggleable__content\"><pre>XGBClassifier(base_score=0.5, booster=&#x27;gbtree&#x27;, callbacks=None,\n",
       "              colsample_bylevel=1, colsample_bynode=1, colsample_bytree=1,\n",
       "              early_stopping_rounds=None, enable_categorical=False,\n",
       "              eval_metric=None, gamma=0, gpu_id=-1, grow_policy=&#x27;depthwise&#x27;,\n",
       "              importance_type=None, interaction_constraints=&#x27;&#x27;,\n",
       "              learning_rate=0.1, max_bin=256, max_cat_to_onehot=4,\n",
       "              max_delta_step=0, max_depth=10, max_leaves=0, min_child_weight=1,\n",
       "              missing=nan, monotone_constraints=&#x27;()&#x27;, n_estimators=50, n_jobs=5,\n",
       "              num_parallel_tree=1, predictor=&#x27;auto&#x27;, random_state=42,\n",
       "              reg_alpha=0, reg_lambda=1, ...)</pre></div></div></div></div></div>"
      ],
      "text/plain": [
       "XGBClassifier(base_score=0.5, booster='gbtree', callbacks=None,\n",
       "              colsample_bylevel=1, colsample_bynode=1, colsample_bytree=1,\n",
       "              early_stopping_rounds=None, enable_categorical=False,\n",
       "              eval_metric=None, gamma=0, gpu_id=-1, grow_policy='depthwise',\n",
       "              importance_type=None, interaction_constraints='',\n",
       "              learning_rate=0.1, max_bin=256, max_cat_to_onehot=4,\n",
       "              max_delta_step=0, max_depth=10, max_leaves=0, min_child_weight=1,\n",
       "              missing=nan, monotone_constraints='()', n_estimators=50, n_jobs=5,\n",
       "              num_parallel_tree=1, predictor='auto', random_state=42,\n",
       "              reg_alpha=0, reg_lambda=1, ...)"
      ]
     },
     "execution_count": 95,
     "metadata": {},
     "output_type": "execute_result"
    }
   ],
   "source": [
    "# xét learning_rate = 0.1, n_estimators = 100\n",
    "xgb = XGBClassifier(n_estimators = 50, max_depth = 10, n_jobs = 5,\n",
    "                    random_state = 42, learning_rate = 0.1)\n",
    "xgb.fit(X_train, y_train)"
   ]
  },
  {
   "cell_type": "code",
   "execution_count": 96,
   "id": "a724b9e8-80a4-44b2-bcfd-7aa6ce71fa7e",
   "metadata": {},
   "outputs": [
    {
     "name": "stdout",
     "output_type": "stream",
     "text": [
      "              precision    recall  f1-score   support\n",
      "\n",
      "           0       0.99      0.97      0.98     21307\n",
      "           1       0.97      0.99      0.98     21285\n",
      "\n",
      "    accuracy                           0.98     42592\n",
      "   macro avg       0.98      0.98      0.98     42592\n",
      "weighted avg       0.98      0.98      0.98     42592\n",
      "\n"
     ]
    }
   ],
   "source": [
    "# Tập train\n",
    "y_train_pred = xgb.predict(X_train)\n",
    "print(classification_report(y_train, y_train_pred))"
   ]
  },
  {
   "cell_type": "code",
   "execution_count": 97,
   "id": "e90ddfe1-f539-4116-bdc2-f5e60452c93d",
   "metadata": {},
   "outputs": [
    {
     "name": "stdout",
     "output_type": "stream",
     "text": [
      "              precision    recall  f1-score   support\n",
      "\n",
      "           0       0.96      0.92      0.94      5313\n",
      "           1       0.92      0.96      0.94      5335\n",
      "\n",
      "    accuracy                           0.94     10648\n",
      "   macro avg       0.94      0.94      0.94     10648\n",
      "weighted avg       0.94      0.94      0.94     10648\n",
      "\n"
     ]
    }
   ],
   "source": [
    "# Tập test\n",
    "y_test_pred = xgb.predict(X_test)\n",
    "print(classification_report(y_test, y_test_pred))"
   ]
  },
  {
   "cell_type": "markdown",
   "id": "1772d3ee-0549-47fc-83ea-c1016b8de05a",
   "metadata": {},
   "source": [
    "### Nhận xét:\n",
    "- <font size='3'>Đây là mô hình tốt nhất (chưa xét Deep Learning) trên cả tập train và tập test.</font>\n",
    "- <font size ='3'>`precision` và `recall` rất cao -> mô hình tốt với dữ liệu mới </font>"
   ]
  },
  {
   "cell_type": "markdown",
   "id": "a631c531-8730-4286-bfaf-44788f548ccd",
   "metadata": {},
   "source": [
    "## 4. Deep Learning"
   ]
  },
  {
   "cell_type": "code",
   "execution_count": 58,
   "id": "a9d3da0b-8417-491b-b514-daf15b871420",
   "metadata": {},
   "outputs": [],
   "source": [
    "from keras import Sequential\n",
    "from keras.layers import Dense, Dropout, LSTM, Embedding\n",
    "from keras.callbacks import ModelCheckpoint\n",
    "from keras.models import save_model, load_model"
   ]
  },
  {
   "cell_type": "code",
   "execution_count": 59,
   "id": "f039ae11-de80-4ad9-9f66-3f7c06403efb",
   "metadata": {},
   "outputs": [],
   "source": [
    "X = over_scale_df.drop(columns = 'y')\n",
    "y = over_scale_df['y']\n",
    "X_train , X_test, y_train, y_test = train_test_split(X, y, test_size=0.2, random_state=42)\n",
    "X_train, X_val, y_train, y_val = train_test_split(X_train, y_train, test_size=0.2, random_state=42)"
   ]
  },
  {
   "cell_type": "markdown",
   "id": "fbd4f0ef-ccdc-4bb7-9acc-dc2e8b73ab3c",
   "metadata": {},
   "source": [
    "### Sử dụng ANN trên tập Over Sampling"
   ]
  },
  {
   "cell_type": "code",
   "execution_count": 83,
   "id": "60b7498a-59c5-42ba-b4d7-d40c0422e9e8",
   "metadata": {},
   "outputs": [
    {
     "name": "stdout",
     "output_type": "stream",
     "text": [
      "Model: \"sequential_1\"\n",
      "_________________________________________________________________\n",
      " Layer (type)                Output Shape              Param #   \n",
      "=================================================================\n",
      " dense_4 (Dense)             (None, 64)                3712      \n",
      "                                                                 \n",
      " dropout_3 (Dropout)         (None, 64)                0         \n",
      "                                                                 \n",
      " dense_5 (Dense)             (None, 128)               8320      \n",
      "                                                                 \n",
      " dropout_4 (Dropout)         (None, 128)               0         \n",
      "                                                                 \n",
      " dense_6 (Dense)             (None, 64)                8256      \n",
      "                                                                 \n",
      " dropout_5 (Dropout)         (None, 64)                0         \n",
      "                                                                 \n",
      " dense_7 (Dense)             (None, 1)                 65        \n",
      "                                                                 \n",
      "=================================================================\n",
      "Total params: 20,353\n",
      "Trainable params: 20,353\n",
      "Non-trainable params: 0\n",
      "_________________________________________________________________\n"
     ]
    }
   ],
   "source": [
    "model = Sequential()\n",
    "# layers\n",
    "model.add(Dense(64, input_shape = (X_train.shape[1],), activation = 'relu'))\n",
    "model.add(Dropout(0.1))\n",
    "model.add(Dense(128, activation = 'relu'))\n",
    "model.add(Dropout(0.2))\n",
    "model.add(Dense(64, activation = 'relu'))\n",
    "model.add(Dropout(0.1))\n",
    "model.add(Dense(1, activation = 'sigmoid'))\n",
    "# compile\n",
    "model.compile(loss = 'binary_crossentropy', optimizer = 'adam', metrics='accuracy')\n",
    "model.summary()"
   ]
  },
  {
   "cell_type": "code",
   "execution_count": 61,
   "id": "39cbea80-c5ca-4932-aab4-58662d817378",
   "metadata": {},
   "outputs": [],
   "source": [
    "# checkpoint to save the best model\n",
    "model_checkpoint_callback = ModelCheckpoint(\n",
    "    filepath = './',\n",
    "    save_weights_only=True,\n",
    "    monitor='val_accuracy',\n",
    "    mode='max',\n",
    "    save_best_only=True)"
   ]
  },
  {
   "cell_type": "code",
   "execution_count": 66,
   "id": "79c19b03-2943-44ae-8416-9cb8768598c1",
   "metadata": {},
   "outputs": [
    {
     "name": "stdout",
     "output_type": "stream",
     "text": [
      "Epoch 1/10\n",
      "3408/3408 [==============================] - 6s 2ms/step - loss: 0.1214 - accuracy: 0.9455 - val_loss: 0.1403 - val_accuracy: 0.9360\n",
      "Epoch 2/10\n",
      "3408/3408 [==============================] - 6s 2ms/step - loss: 0.1192 - accuracy: 0.9453 - val_loss: 0.1406 - val_accuracy: 0.9319\n",
      "Epoch 3/10\n",
      "3408/3408 [==============================] - 5s 2ms/step - loss: 0.1182 - accuracy: 0.9469 - val_loss: 0.1456 - val_accuracy: 0.9318\n",
      "Epoch 4/10\n",
      "3408/3408 [==============================] - 5s 1ms/step - loss: 0.1165 - accuracy: 0.9471 - val_loss: 0.1468 - val_accuracy: 0.9326\n",
      "Epoch 5/10\n",
      "3408/3408 [==============================] - 5s 2ms/step - loss: 0.1155 - accuracy: 0.9466 - val_loss: 0.1385 - val_accuracy: 0.9350\n",
      "Epoch 6/10\n",
      "3408/3408 [==============================] - 5s 2ms/step - loss: 0.1120 - accuracy: 0.9491 - val_loss: 0.1474 - val_accuracy: 0.9340\n",
      "Epoch 7/10\n",
      "3408/3408 [==============================] - 5s 2ms/step - loss: 0.1138 - accuracy: 0.9504 - val_loss: 0.1380 - val_accuracy: 0.9367\n",
      "Epoch 8/10\n",
      "3408/3408 [==============================] - 5s 2ms/step - loss: 0.1121 - accuracy: 0.9503 - val_loss: 0.1391 - val_accuracy: 0.9336\n",
      "Epoch 9/10\n",
      "3408/3408 [==============================] - 5s 2ms/step - loss: 0.1105 - accuracy: 0.9499 - val_loss: 0.1494 - val_accuracy: 0.9326\n",
      "Epoch 10/10\n",
      "3408/3408 [==============================] - 6s 2ms/step - loss: 0.1091 - accuracy: 0.9506 - val_loss: 0.1415 - val_accuracy: 0.9365\n"
     ]
    }
   ],
   "source": [
    "history = model.fit(X_train, y_train, epochs=10, batch_size = 10, \n",
    "          validation_data=(X_val,y_val), callbacks=[model_checkpoint_callback]);"
   ]
  },
  {
   "cell_type": "code",
   "execution_count": 85,
   "id": "ca4d6419-fe17-49bb-aff0-36d9a01e0d7c",
   "metadata": {},
   "outputs": [
    {
     "data": {
      "image/png": "[encoded data removed]",
      "text/plain": [
       "<Figure size 864x432 with 1 Axes>"
      ]
     },
     "metadata": {
      "needs_background": "light"
     },
     "output_type": "display_data"
    }
   ],
   "source": [
    "plt.rcParams['figure.figsize'] = 12, 6\n",
    "plt.plot(np.arange(10), history.history['accuracy'], label = 'train')\n",
    "plt.plot(np.arange(10), history.history['val_accuracy'], label = 'validation')\n",
    "plt.title('Accuracy khi tăng epoch', fontsize = 18, color = 'red')\n",
    "plt.legend()\n",
    "plt.show()"
   ]
  },
  {
   "cell_type": "code",
   "execution_count": 63,
   "id": "175c037c-1f91-475a-87b1-f0bbef5e4759",
   "metadata": {},
   "outputs": [
    {
     "name": "stdout",
     "output_type": "stream",
     "text": [
      "INFO:tensorflow:Assets written to: ./ANN/assets\n"
     ]
    }
   ],
   "source": [
    "# save model\n",
    "model.save('./ANN')"
   ]
  },
  {
   "cell_type": "code",
   "execution_count": 64,
   "id": "881368da-7736-4f11-a709-9b4088f838a8",
   "metadata": {},
   "outputs": [
    {
     "name": "stdout",
     "output_type": "stream",
     "text": [
      "333/333 [==============================] - 0s 887us/step - loss: 0.1368 - accuracy: 0.9379\n",
      "333/333 [==============================] - 0s 774us/step\n",
      "              precision    recall  f1-score   support\n",
      "\n",
      "         0.0       0.92      0.95      0.94      5176\n",
      "         1.0       0.95      0.93      0.94      5472\n",
      "\n",
      "    accuracy                           0.94     10648\n",
      "   macro avg       0.94      0.94      0.94     10648\n",
      "weighted avg       0.94      0.94      0.94     10648\n",
      "\n"
     ]
    }
   ],
   "source": [
    "# Tập test\n",
    "model = load_model('ANN')\n",
    "metrics = model.evaluate(X_test, y_test)\n",
    "print(classification_report(np.round(model.predict(X_test),0),y_test))"
   ]
  },
  {
   "cell_type": "markdown",
   "id": "9525b154-02d2-485e-8376-ef9a9253534d",
   "metadata": {
    "tags": []
   },
   "source": [
    "### Nhận xét:\n",
    "- <font size='3'>Mô hình dự báo tốt trên cả tập trên và tập test.</font>\n",
    "- <font size='3'>Data không quá lớn nên số lượng hidden layers tốt nhất là 2-3</font>\n",
    "- <font size ='3'>Có thể tốt hơn bằng cách tăng số lượng `epoch` và giảm số lượng `batch_size` nhưng không nên quá chênh lệch vì có thể dẫn tới `overfit` </font>"
   ]
  }
 ],
 "metadata": {
  "kernelspec": {
   "display_name": "Python 3 (ipykernel)",
   "language": "python",
   "name": "python3"
  },
  "language_info": {
   "codemirror_mode": {
    "name": "ipython",
    "version": 3
   },
   "file_extension": ".py",
   "mimetype": "text/x-python",
   "name": "python",
   "nbconvert_exporter": "python",
   "pygments_lexer": "ipython3",
   "version": "3.9.7"
  }
 },
 "nbformat": 4,
 "nbformat_minor": 5
}
